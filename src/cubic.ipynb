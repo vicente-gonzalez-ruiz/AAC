{
  "nbformat": 4,
  "nbformat_minor": 0,
  "metadata": {
    "colab": {
      "name": "cubic.ipynb",
      "provenance": [],
      "collapsed_sections": [],
      "mount_file_id": "1azFGzFWTSOnDcZjfyxbPKBQP0N-SUYej",
      "authorship_tag": "ABX9TyO4MDTgcpHPrc41RYKPDML7",
      "include_colab_link": true
    },
    "kernelspec": {
      "name": "python3",
      "display_name": "Python 3"
    },
    "language_info": {
      "name": "python"
    }
  },
  "cells": [
    {
      "cell_type": "markdown",
      "metadata": {
        "id": "view-in-github",
        "colab_type": "text"
      },
      "source": [
        "<a href=\"https://colab.research.google.com/github/vicente-gonzalez-ruiz/AAC/blob/master/src/cubic.ipynb\" target=\"_parent\"><img src=\"https://colab.research.google.com/assets/colab-badge.svg\" alt=\"Open In Colab\"/></a>"
      ]
    },
    {
      "cell_type": "markdown",
      "metadata": {
        "id": "tqXJBX_GjWDh"
      },
      "source": [
        "# Z interpolation -- experiment \"EPFL_1\" simple cubic interpolation\n",
        "Image interpolation in the Z-domain using 1D cubic interpolation.\n",
        "\n",
        "Interpolation steps = 2, 4, 8 and 16."
      ]
    },
    {
      "cell_type": "code",
      "metadata": {
        "colab": {
          "base_uri": "https://localhost:8080/"
        },
        "id": "oxLRFdMrSPj_",
        "outputId": "c85c9890-34a0-4a2f-fbb1-49a8132302f9"
      },
      "source": [
        "from google.colab import drive\n",
        "drive.mount('/content/drive')"
      ],
      "execution_count": 1,
      "outputs": [
        {
          "output_type": "stream",
          "text": [
            "Drive already mounted at /content/drive; to attempt to forcibly remount, call drive.mount(\"/content/drive\", force_remount=True).\n"
          ],
          "name": "stdout"
        }
      ]
    },
    {
      "cell_type": "code",
      "metadata": {
        "colab": {
          "base_uri": "https://localhost:8080/"
        },
        "id": "gj2IG3x_hV4n",
        "outputId": "5929cd7b-0944-458d-b945-efb784ea1831"
      },
      "source": [
        "!ls drive/Shareddrives/Z_interpolation/"
      ],
      "execution_count": 2,
      "outputs": [
        {
          "output_type": "stream",
          "text": [
            "avgSSIM.py  EPFL_1\tmoving_circles\tREADME.md      stack_5nm\n",
            "common.py   EPFL_2\told_stuff\trm_pngs.ipynb\n",
            "common.py~  Literatura\t__pycache__\tstack\n"
          ],
          "name": "stdout"
        }
      ]
    },
    {
      "cell_type": "code",
      "metadata": {
        "id": "J6oJiak4nFf7"
      },
      "source": [
        "import sys\n",
        "#sys.path.append(\"/content/drive/MyDrive/UAL/Investigacion/Z_upscaling\")\n",
        "sys.path.append(\"/content/drive/Shareddrives/Z_interpolation\")"
      ],
      "execution_count": 3,
      "outputs": []
    },
    {
      "cell_type": "code",
      "metadata": {
        "id": "MH4vyQTVR641"
      },
      "source": [
        "import pylab\n",
        "import matplotlib.pyplot as plt\n",
        "%matplotlib inline\n",
        "from skimage.metrics import structural_similarity as ssim\n",
        "import math\n",
        "import numpy as np\n",
        "import cv2\n",
        "import pywt\n",
        "import common\n",
        "import EPFL_1.common as _stack"
      ],
      "execution_count": 8,
      "outputs": []
    },
    {
      "cell_type": "code",
      "metadata": {
        "id": "A7ZoLBkzi-AB"
      },
      "source": [
        "# Prefix of the input images\n",
        "input_images = \"drive/Shareddrives/Z_interpolation/EPFL_1/images/\""
      ],
      "execution_count": 5,
      "outputs": []
    },
    {
      "cell_type": "code",
      "metadata": {
        "id": "bZorPi7iV-gT"
      },
      "source": [
        "# Prefix (directory that must be already created) of the output images\n",
        "output_images = \"drive/Shareddrives/Z_interpolation/EPFL_1/images-interpolations/cubic/\""
      ],
      "execution_count": 6,
      "outputs": []
    },
    {
      "cell_type": "code",
      "metadata": {
        "id": "riXFD7dWTT6-"
      },
      "source": [
        "original = \"drive/Shareddrives/Z_interpolation/EPFL_1/images/\"\n",
        "interpolated = \"drive/Shareddrives/Z_interpolation/EPFL_1/images-interpolations/cubic/\"\n",
        "SSIM_images = \"drive/Shareddrives/Z_interpolation/EPFL_1/images-SSIM/cubic/\""
      ],
      "execution_count": 7,
      "outputs": []
    },
    {
      "cell_type": "code",
      "metadata": {
        "id": "K7xPRQjdSPJT"
      },
      "source": [
        "# Images to process\n",
        "first_image = _stack.first_image\n",
        "N_images = _stack.N_images"
      ],
      "execution_count": 9,
      "outputs": []
    },
    {
      "cell_type": "code",
      "metadata": {
        "colab": {
          "base_uri": "https://localhost:8080/"
        },
        "id": "KxBiDjX00-y_",
        "outputId": "17bcd0e7-5f77-4a66-ecd9-a837b2dba292"
      },
      "source": [
        "print(\"first_image \", first_image)\n",
        "print(\"N_images =\", N_images)"
      ],
      "execution_count": 10,
      "outputs": [
        {
          "output_type": "stream",
          "text": [
            "first_image  0\n",
            "N_images = 149\n"
          ],
          "name": "stdout"
        }
      ]
    },
    {
      "cell_type": "code",
      "metadata": {
        "id": "UvmbmE8pr58v"
      },
      "source": [
        "# Region of interest\n",
        "show_x_start = _stack.show_x_start\n",
        "show_y_start = _stack.show_y_start\n",
        "show_x_end = _stack.show_x_end\n",
        "show_y_end = _stack.show_y_end"
      ],
      "execution_count": 11,
      "outputs": []
    },
    {
      "cell_type": "code",
      "metadata": {
        "colab": {
          "base_uri": "https://localhost:8080/"
        },
        "id": "hsZ6e1q61Cxs",
        "outputId": "45c4f924-6465-4aa7-c79a-3594e2cf236e"
      },
      "source": [
        "print(\"show_x_start = \", show_x_start)\n",
        "print(\"show_y_start = \", show_y_start)\n",
        "print(\"show_x_end = \", show_x_end)\n",
        "print(\"show_y_end = \", show_y_end)"
      ],
      "execution_count": 12,
      "outputs": [
        {
          "output_type": "stream",
          "text": [
            "show_x_start =  0\n",
            "show_y_start =  0\n",
            "show_x_end =  1024\n",
            "show_y_end =  768\n"
          ],
          "name": "stdout"
        }
      ]
    },
    {
      "cell_type": "code",
      "metadata": {
        "id": "Ozg1kxdET2vC"
      },
      "source": [
        "def compute_distortion(first_image, N_images, I_step):\n",
        "\n",
        "  with open(f\"drive/Shareddrives/Z_interpolation/EPFL_1/images-SSIM/cubic_step={I_step}.txt\", 'w') as f:\n",
        "    for i in range(first_image + 1, first_image + N_images//I_step - 1):\n",
        "      for j in range(1, I_step):\n",
        "\n",
        "        # Original\n",
        "        interpolated_image_index = i*I_step + j\n",
        "        interpolated_image = common.read(original, interpolated_image_index)[show_y_start:show_y_end, show_x_start:show_x_end]\n",
        "\n",
        "        interpolation = common.read(f\"{interpolated}step={I_step}_\", interpolated_image_index)\n",
        "        distortion, SSIM_image = ssim(interpolation, interpolated_image, data_range=interpolated_image.max() - interpolated_image.min(), full=True)\n",
        "        SSIM_image = (common.normalize(SSIM_image)*65536).astype(np.uint16)\n",
        "        common.write(SSIM_image, f\"{SSIM_images}step={I_step}_\", interpolated_image_index)\n",
        "        print(f\"{interpolated_image_index} SSIM={distortion:5.3f}\")\n",
        "        f.write(f\"{interpolated_image_index}\\t{distortion}\\n\")"
      ],
      "execution_count": 14,
      "outputs": []
    },
    {
      "cell_type": "markdown",
      "metadata": {
        "id": "mZV0px6ITL0k"
      },
      "source": [
        "## Interpolation step = 2"
      ]
    },
    {
      "cell_type": "code",
      "metadata": {
        "id": "igqrxmJr-7jz"
      },
      "source": [
        "# Interpolation step\n",
        "I_step = 2"
      ],
      "execution_count": null,
      "outputs": []
    },
    {
      "cell_type": "code",
      "metadata": {
        "colab": {
          "base_uri": "https://localhost:8080/"
        },
        "id": "iOoRpuqISJr4",
        "outputId": "27722926-a8bb-47cc-b363-3bc577da97fd"
      },
      "source": [
        "common.cubic_interpolation(input_images, output_images, first_image, N_images, I_step, show_y_start, show_x_start, show_y_end, show_x_end)"
      ],
      "execution_count": null,
      "outputs": [
        {
          "output_type": "stream",
          "text": [
            "common.read: drive/Shareddrives/Z_interpolation/EPFL_1/images/002.tif\n",
            "common.read: drive/Shareddrives/Z_interpolation/EPFL_1/images/004.tif\n",
            "common.read: drive/Shareddrives/Z_interpolation/EPFL_1/images/000.tif\n",
            "common.read: drive/Shareddrives/Z_interpolation/EPFL_1/images/006.tif\n",
            "common.cubic_interpolation: prev_image_index=  2 interpolated_image_index=  3 next_image_index=  4 prev_image_contribution=0.5625 next_image_contribution=0.5625 prev1_image_index=  0 next1_image_index=  6 prev1_image_contribution=-0.0625 next1_image_contribution=-0.0625\n",
            "common.write: drive/Shareddrives/Z_interpolation/EPFL_1/images-interpolations/cubic/step=2_003.tif\n",
            "common.read: drive/Shareddrives/Z_interpolation/EPFL_1/images/004.tif\n",
            "common.read: drive/Shareddrives/Z_interpolation/EPFL_1/images/006.tif\n",
            "common.read: drive/Shareddrives/Z_interpolation/EPFL_1/images/002.tif\n",
            "common.read: drive/Shareddrives/Z_interpolation/EPFL_1/images/008.tif\n",
            "common.cubic_interpolation: prev_image_index=  4 interpolated_image_index=  5 next_image_index=  6 prev_image_contribution=0.5625 next_image_contribution=0.5625 prev1_image_index=  2 next1_image_index=  8 prev1_image_contribution=-0.0625 next1_image_contribution=-0.0625\n",
            "common.write: drive/Shareddrives/Z_interpolation/EPFL_1/images-interpolations/cubic/step=2_005.tif\n",
            "common.read: drive/Shareddrives/Z_interpolation/EPFL_1/images/006.tif\n",
            "common.read: drive/Shareddrives/Z_interpolation/EPFL_1/images/008.tif\n",
            "common.read: drive/Shareddrives/Z_interpolation/EPFL_1/images/004.tif\n",
            "common.read: drive/Shareddrives/Z_interpolation/EPFL_1/images/010.tif\n",
            "common.cubic_interpolation: prev_image_index=  6 interpolated_image_index=  7 next_image_index=  8 prev_image_contribution=0.5625 next_image_contribution=0.5625 prev1_image_index=  4 next1_image_index= 10 prev1_image_contribution=-0.0625 next1_image_contribution=-0.0625\n",
            "common.write: drive/Shareddrives/Z_interpolation/EPFL_1/images-interpolations/cubic/step=2_007.tif\n",
            "common.read: drive/Shareddrives/Z_interpolation/EPFL_1/images/008.tif\n",
            "common.read: drive/Shareddrives/Z_interpolation/EPFL_1/images/010.tif\n",
            "common.read: drive/Shareddrives/Z_interpolation/EPFL_1/images/006.tif\n",
            "common.read: drive/Shareddrives/Z_interpolation/EPFL_1/images/012.tif\n",
            "common.cubic_interpolation: prev_image_index=  8 interpolated_image_index=  9 next_image_index= 10 prev_image_contribution=0.5625 next_image_contribution=0.5625 prev1_image_index=  6 next1_image_index= 12 prev1_image_contribution=-0.0625 next1_image_contribution=-0.0625\n",
            "common.write: drive/Shareddrives/Z_interpolation/EPFL_1/images-interpolations/cubic/step=2_009.tif\n",
            "common.read: drive/Shareddrives/Z_interpolation/EPFL_1/images/010.tif\n",
            "common.read: drive/Shareddrives/Z_interpolation/EPFL_1/images/012.tif\n",
            "common.read: drive/Shareddrives/Z_interpolation/EPFL_1/images/008.tif\n",
            "common.read: drive/Shareddrives/Z_interpolation/EPFL_1/images/014.tif\n",
            "common.cubic_interpolation: prev_image_index= 10 interpolated_image_index= 11 next_image_index= 12 prev_image_contribution=0.5625 next_image_contribution=0.5625 prev1_image_index=  8 next1_image_index= 14 prev1_image_contribution=-0.0625 next1_image_contribution=-0.0625\n",
            "common.write: drive/Shareddrives/Z_interpolation/EPFL_1/images-interpolations/cubic/step=2_011.tif\n",
            "common.read: drive/Shareddrives/Z_interpolation/EPFL_1/images/012.tif\n",
            "common.read: drive/Shareddrives/Z_interpolation/EPFL_1/images/014.tif\n",
            "common.read: drive/Shareddrives/Z_interpolation/EPFL_1/images/010.tif\n",
            "common.read: drive/Shareddrives/Z_interpolation/EPFL_1/images/016.tif\n",
            "common.cubic_interpolation: prev_image_index= 12 interpolated_image_index= 13 next_image_index= 14 prev_image_contribution=0.5625 next_image_contribution=0.5625 prev1_image_index= 10 next1_image_index= 16 prev1_image_contribution=-0.0625 next1_image_contribution=-0.0625\n",
            "common.write: drive/Shareddrives/Z_interpolation/EPFL_1/images-interpolations/cubic/step=2_013.tif\n",
            "common.read: drive/Shareddrives/Z_interpolation/EPFL_1/images/014.tif\n",
            "common.read: drive/Shareddrives/Z_interpolation/EPFL_1/images/016.tif\n",
            "common.read: drive/Shareddrives/Z_interpolation/EPFL_1/images/012.tif\n",
            "common.read: drive/Shareddrives/Z_interpolation/EPFL_1/images/018.tif\n",
            "common.cubic_interpolation: prev_image_index= 14 interpolated_image_index= 15 next_image_index= 16 prev_image_contribution=0.5625 next_image_contribution=0.5625 prev1_image_index= 12 next1_image_index= 18 prev1_image_contribution=-0.0625 next1_image_contribution=-0.0625\n",
            "common.write: drive/Shareddrives/Z_interpolation/EPFL_1/images-interpolations/cubic/step=2_015.tif\n",
            "common.read: drive/Shareddrives/Z_interpolation/EPFL_1/images/016.tif\n",
            "common.read: drive/Shareddrives/Z_interpolation/EPFL_1/images/018.tif\n",
            "common.read: drive/Shareddrives/Z_interpolation/EPFL_1/images/014.tif\n",
            "common.read: drive/Shareddrives/Z_interpolation/EPFL_1/images/020.tif\n",
            "common.cubic_interpolation: prev_image_index= 16 interpolated_image_index= 17 next_image_index= 18 prev_image_contribution=0.5625 next_image_contribution=0.5625 prev1_image_index= 14 next1_image_index= 20 prev1_image_contribution=-0.0625 next1_image_contribution=-0.0625\n",
            "common.write: drive/Shareddrives/Z_interpolation/EPFL_1/images-interpolations/cubic/step=2_017.tif\n",
            "common.read: drive/Shareddrives/Z_interpolation/EPFL_1/images/018.tif\n",
            "common.read: drive/Shareddrives/Z_interpolation/EPFL_1/images/020.tif\n",
            "common.read: drive/Shareddrives/Z_interpolation/EPFL_1/images/016.tif\n",
            "common.read: drive/Shareddrives/Z_interpolation/EPFL_1/images/022.tif\n",
            "common.cubic_interpolation: prev_image_index= 18 interpolated_image_index= 19 next_image_index= 20 prev_image_contribution=0.5625 next_image_contribution=0.5625 prev1_image_index= 16 next1_image_index= 22 prev1_image_contribution=-0.0625 next1_image_contribution=-0.0625\n",
            "common.write: drive/Shareddrives/Z_interpolation/EPFL_1/images-interpolations/cubic/step=2_019.tif\n",
            "common.read: drive/Shareddrives/Z_interpolation/EPFL_1/images/020.tif\n",
            "common.read: drive/Shareddrives/Z_interpolation/EPFL_1/images/022.tif\n",
            "common.read: drive/Shareddrives/Z_interpolation/EPFL_1/images/018.tif\n",
            "common.read: drive/Shareddrives/Z_interpolation/EPFL_1/images/024.tif\n",
            "common.cubic_interpolation: prev_image_index= 20 interpolated_image_index= 21 next_image_index= 22 prev_image_contribution=0.5625 next_image_contribution=0.5625 prev1_image_index= 18 next1_image_index= 24 prev1_image_contribution=-0.0625 next1_image_contribution=-0.0625\n",
            "common.write: drive/Shareddrives/Z_interpolation/EPFL_1/images-interpolations/cubic/step=2_021.tif\n",
            "common.read: drive/Shareddrives/Z_interpolation/EPFL_1/images/022.tif\n",
            "common.read: drive/Shareddrives/Z_interpolation/EPFL_1/images/024.tif\n",
            "common.read: drive/Shareddrives/Z_interpolation/EPFL_1/images/020.tif\n",
            "common.read: drive/Shareddrives/Z_interpolation/EPFL_1/images/026.tif\n",
            "common.cubic_interpolation: prev_image_index= 22 interpolated_image_index= 23 next_image_index= 24 prev_image_contribution=0.5625 next_image_contribution=0.5625 prev1_image_index= 20 next1_image_index= 26 prev1_image_contribution=-0.0625 next1_image_contribution=-0.0625\n",
            "common.write: drive/Shareddrives/Z_interpolation/EPFL_1/images-interpolations/cubic/step=2_023.tif\n",
            "common.read: drive/Shareddrives/Z_interpolation/EPFL_1/images/024.tif\n",
            "common.read: drive/Shareddrives/Z_interpolation/EPFL_1/images/026.tif\n",
            "common.read: drive/Shareddrives/Z_interpolation/EPFL_1/images/022.tif\n",
            "common.read: drive/Shareddrives/Z_interpolation/EPFL_1/images/028.tif\n",
            "common.cubic_interpolation: prev_image_index= 24 interpolated_image_index= 25 next_image_index= 26 prev_image_contribution=0.5625 next_image_contribution=0.5625 prev1_image_index= 22 next1_image_index= 28 prev1_image_contribution=-0.0625 next1_image_contribution=-0.0625\n",
            "common.write: drive/Shareddrives/Z_interpolation/EPFL_1/images-interpolations/cubic/step=2_025.tif\n",
            "common.read: drive/Shareddrives/Z_interpolation/EPFL_1/images/026.tif\n",
            "common.read: drive/Shareddrives/Z_interpolation/EPFL_1/images/028.tif\n",
            "common.read: drive/Shareddrives/Z_interpolation/EPFL_1/images/024.tif\n",
            "common.read: drive/Shareddrives/Z_interpolation/EPFL_1/images/030.tif\n",
            "common.cubic_interpolation: prev_image_index= 26 interpolated_image_index= 27 next_image_index= 28 prev_image_contribution=0.5625 next_image_contribution=0.5625 prev1_image_index= 24 next1_image_index= 30 prev1_image_contribution=-0.0625 next1_image_contribution=-0.0625\n",
            "common.write: drive/Shareddrives/Z_interpolation/EPFL_1/images-interpolations/cubic/step=2_027.tif\n"
          ],
          "name": "stdout"
        }
      ]
    },
    {
      "cell_type": "code",
      "metadata": {
        "id": "IfYi6oKTUBEJ"
      },
      "source": [
        "compute_distortion(first_image, N_images, I_step)"
      ],
      "execution_count": null,
      "outputs": []
    },
    {
      "cell_type": "markdown",
      "metadata": {
        "id": "MkWCLvt_TuDW"
      },
      "source": [
        "## Interpolation step = 4\n"
      ]
    },
    {
      "cell_type": "code",
      "metadata": {
        "id": "YbR2TFMVTuDe"
      },
      "source": [
        "# Interpolation step\n",
        "I_step = 4"
      ],
      "execution_count": null,
      "outputs": []
    },
    {
      "cell_type": "code",
      "metadata": {
        "colab": {
          "base_uri": "https://localhost:8080/"
        },
        "id": "s0qtEUwhTuDf",
        "outputId": "7f9d49f1-71ef-4a15-8262-aea59aff5c9a"
      },
      "source": [
        "common.cubic_interpolation(input_images, output_images, first_image, N_images, I_step, show_y_start, show_x_start, show_y_end, show_x_end)"
      ],
      "execution_count": null,
      "outputs": [
        {
          "output_type": "stream",
          "text": [
            "common.read: drive/Shareddrives/Z_interpolation/EPFL_1/images/004.tif\n",
            "common.read: drive/Shareddrives/Z_interpolation/EPFL_1/images/008.tif\n",
            "common.read: drive/Shareddrives/Z_interpolation/EPFL_1/images/000.tif\n",
            "common.read: drive/Shareddrives/Z_interpolation/EPFL_1/images/012.tif\n",
            "common.cubic_interpolation: prev_image_index=  4 interpolated_image_index=  5 next_image_index=  8 prev_image_contribution=0.8671875 next_image_contribution=0.2265625 prev1_image_index=  0 next1_image_index= 12 prev1_image_contribution=-0.0703125 next1_image_contribution=-0.0234375\n",
            "common.write: drive/Shareddrives/Z_interpolation/EPFL_1/images-interpolations/cubic/step=4_005.tif\n",
            "common.cubic_interpolation: prev_image_index=  4 interpolated_image_index=  6 next_image_index=  8 prev_image_contribution=0.5625 next_image_contribution=0.5625 prev1_image_index=  0 next1_image_index= 12 prev1_image_contribution=-0.0625 next1_image_contribution=-0.0625\n",
            "common.write: drive/Shareddrives/Z_interpolation/EPFL_1/images-interpolations/cubic/step=4_006.tif\n",
            "common.cubic_interpolation: prev_image_index=  4 interpolated_image_index=  7 next_image_index=  8 prev_image_contribution=0.2265625 next_image_contribution=0.8671875 prev1_image_index=  0 next1_image_index= 12 prev1_image_contribution=-0.0234375 next1_image_contribution=-0.0703125\n",
            "common.write: drive/Shareddrives/Z_interpolation/EPFL_1/images-interpolations/cubic/step=4_007.tif\n",
            "common.read: drive/Shareddrives/Z_interpolation/EPFL_1/images/008.tif\n",
            "common.read: drive/Shareddrives/Z_interpolation/EPFL_1/images/012.tif\n",
            "common.read: drive/Shareddrives/Z_interpolation/EPFL_1/images/004.tif\n",
            "common.read: drive/Shareddrives/Z_interpolation/EPFL_1/images/016.tif\n",
            "common.cubic_interpolation: prev_image_index=  8 interpolated_image_index=  9 next_image_index= 12 prev_image_contribution=0.8671875 next_image_contribution=0.2265625 prev1_image_index=  4 next1_image_index= 16 prev1_image_contribution=-0.0703125 next1_image_contribution=-0.0234375\n",
            "common.write: drive/Shareddrives/Z_interpolation/EPFL_1/images-interpolations/cubic/step=4_009.tif\n",
            "common.cubic_interpolation: prev_image_index=  8 interpolated_image_index= 10 next_image_index= 12 prev_image_contribution=0.5625 next_image_contribution=0.5625 prev1_image_index=  4 next1_image_index= 16 prev1_image_contribution=-0.0625 next1_image_contribution=-0.0625\n",
            "common.write: drive/Shareddrives/Z_interpolation/EPFL_1/images-interpolations/cubic/step=4_010.tif\n",
            "common.cubic_interpolation: prev_image_index=  8 interpolated_image_index= 11 next_image_index= 12 prev_image_contribution=0.2265625 next_image_contribution=0.8671875 prev1_image_index=  4 next1_image_index= 16 prev1_image_contribution=-0.0234375 next1_image_contribution=-0.0703125\n",
            "common.write: drive/Shareddrives/Z_interpolation/EPFL_1/images-interpolations/cubic/step=4_011.tif\n",
            "common.read: drive/Shareddrives/Z_interpolation/EPFL_1/images/012.tif\n",
            "common.read: drive/Shareddrives/Z_interpolation/EPFL_1/images/016.tif\n",
            "common.read: drive/Shareddrives/Z_interpolation/EPFL_1/images/008.tif\n",
            "common.read: drive/Shareddrives/Z_interpolation/EPFL_1/images/020.tif\n",
            "common.cubic_interpolation: prev_image_index= 12 interpolated_image_index= 13 next_image_index= 16 prev_image_contribution=0.8671875 next_image_contribution=0.2265625 prev1_image_index=  8 next1_image_index= 20 prev1_image_contribution=-0.0703125 next1_image_contribution=-0.0234375\n",
            "common.write: drive/Shareddrives/Z_interpolation/EPFL_1/images-interpolations/cubic/step=4_013.tif\n",
            "common.cubic_interpolation: prev_image_index= 12 interpolated_image_index= 14 next_image_index= 16 prev_image_contribution=0.5625 next_image_contribution=0.5625 prev1_image_index=  8 next1_image_index= 20 prev1_image_contribution=-0.0625 next1_image_contribution=-0.0625\n",
            "common.write: drive/Shareddrives/Z_interpolation/EPFL_1/images-interpolations/cubic/step=4_014.tif\n",
            "common.cubic_interpolation: prev_image_index= 12 interpolated_image_index= 15 next_image_index= 16 prev_image_contribution=0.2265625 next_image_contribution=0.8671875 prev1_image_index=  8 next1_image_index= 20 prev1_image_contribution=-0.0234375 next1_image_contribution=-0.0703125\n",
            "common.write: drive/Shareddrives/Z_interpolation/EPFL_1/images-interpolations/cubic/step=4_015.tif\n",
            "common.read: drive/Shareddrives/Z_interpolation/EPFL_1/images/016.tif\n",
            "common.read: drive/Shareddrives/Z_interpolation/EPFL_1/images/020.tif\n",
            "common.read: drive/Shareddrives/Z_interpolation/EPFL_1/images/012.tif\n",
            "common.read: drive/Shareddrives/Z_interpolation/EPFL_1/images/024.tif\n",
            "common.cubic_interpolation: prev_image_index= 16 interpolated_image_index= 17 next_image_index= 20 prev_image_contribution=0.8671875 next_image_contribution=0.2265625 prev1_image_index= 12 next1_image_index= 24 prev1_image_contribution=-0.0703125 next1_image_contribution=-0.0234375\n",
            "common.write: drive/Shareddrives/Z_interpolation/EPFL_1/images-interpolations/cubic/step=4_017.tif\n",
            "common.cubic_interpolation: prev_image_index= 16 interpolated_image_index= 18 next_image_index= 20 prev_image_contribution=0.5625 next_image_contribution=0.5625 prev1_image_index= 12 next1_image_index= 24 prev1_image_contribution=-0.0625 next1_image_contribution=-0.0625\n",
            "common.write: drive/Shareddrives/Z_interpolation/EPFL_1/images-interpolations/cubic/step=4_018.tif\n",
            "common.cubic_interpolation: prev_image_index= 16 interpolated_image_index= 19 next_image_index= 20 prev_image_contribution=0.2265625 next_image_contribution=0.8671875 prev1_image_index= 12 next1_image_index= 24 prev1_image_contribution=-0.0234375 next1_image_contribution=-0.0703125\n",
            "common.write: drive/Shareddrives/Z_interpolation/EPFL_1/images-interpolations/cubic/step=4_019.tif\n",
            "common.read: drive/Shareddrives/Z_interpolation/EPFL_1/images/020.tif\n",
            "common.read: drive/Shareddrives/Z_interpolation/EPFL_1/images/024.tif\n",
            "common.read: drive/Shareddrives/Z_interpolation/EPFL_1/images/016.tif\n",
            "common.read: drive/Shareddrives/Z_interpolation/EPFL_1/images/028.tif\n",
            "common.cubic_interpolation: prev_image_index= 20 interpolated_image_index= 21 next_image_index= 24 prev_image_contribution=0.8671875 next_image_contribution=0.2265625 prev1_image_index= 16 next1_image_index= 28 prev1_image_contribution=-0.0703125 next1_image_contribution=-0.0234375\n",
            "common.write: drive/Shareddrives/Z_interpolation/EPFL_1/images-interpolations/cubic/step=4_021.tif\n",
            "common.cubic_interpolation: prev_image_index= 20 interpolated_image_index= 22 next_image_index= 24 prev_image_contribution=0.5625 next_image_contribution=0.5625 prev1_image_index= 16 next1_image_index= 28 prev1_image_contribution=-0.0625 next1_image_contribution=-0.0625\n",
            "common.write: drive/Shareddrives/Z_interpolation/EPFL_1/images-interpolations/cubic/step=4_022.tif\n",
            "common.cubic_interpolation: prev_image_index= 20 interpolated_image_index= 23 next_image_index= 24 prev_image_contribution=0.2265625 next_image_contribution=0.8671875 prev1_image_index= 16 next1_image_index= 28 prev1_image_contribution=-0.0234375 next1_image_contribution=-0.0703125\n",
            "common.write: drive/Shareddrives/Z_interpolation/EPFL_1/images-interpolations/cubic/step=4_023.tif\n"
          ],
          "name": "stdout"
        }
      ]
    },
    {
      "cell_type": "code",
      "metadata": {
        "id": "0KPl2Uf0T_6S"
      },
      "source": [
        "compute_distortion(first_image, N_images, I_step)"
      ],
      "execution_count": null,
      "outputs": []
    },
    {
      "cell_type": "markdown",
      "metadata": {
        "id": "PZOLKW7ZYWuV"
      },
      "source": [
        "## Interpolation step = 8"
      ]
    },
    {
      "cell_type": "code",
      "metadata": {
        "id": "PNUUcMJTYWuX"
      },
      "source": [
        "# Interpolation step\n",
        "I_step = 8"
      ],
      "execution_count": null,
      "outputs": []
    },
    {
      "cell_type": "code",
      "metadata": {
        "colab": {
          "base_uri": "https://localhost:8080/"
        },
        "id": "Y-eb47SWYWuZ",
        "outputId": "d066948b-18a8-4508-ae69-249a3f72d9c6"
      },
      "source": [
        "common.cubic_interpolation(input_images, output_images, first_image, N_images, I_step, show_y_start, show_x_start, show_y_end, show_x_end)"
      ],
      "execution_count": null,
      "outputs": [
        {
          "output_type": "stream",
          "text": [
            "common.read: drive/Shareddrives/Z_interpolation/EPFL_1/images/008.tif\n",
            "common.read: drive/Shareddrives/Z_interpolation/EPFL_1/images/016.tif\n",
            "common.read: drive/Shareddrives/Z_interpolation/EPFL_1/images/000.tif\n",
            "common.read: drive/Shareddrives/Z_interpolation/EPFL_1/images/024.tif\n",
            "common.cubic_interpolation: prev_image_index=  8 interpolated_image_index=  9 next_image_index= 16 prev_image_contribution=0.9638671875 next_image_contribution=0.0908203125 prev1_image_index=  0 next1_image_index= 24 prev1_image_contribution=-0.0478515625 next1_image_contribution=-0.0068359375\n",
            "common.write: drive/Shareddrives/Z_interpolation/EPFL_1/images-interpolations/cubic/step=8_009.tif\n",
            "common.cubic_interpolation: prev_image_index=  8 interpolated_image_index= 10 next_image_index= 16 prev_image_contribution=0.8671875 next_image_contribution=0.2265625 prev1_image_index=  0 next1_image_index= 24 prev1_image_contribution=-0.0703125 next1_image_contribution=-0.0234375\n",
            "common.write: drive/Shareddrives/Z_interpolation/EPFL_1/images-interpolations/cubic/step=8_010.tif\n",
            "common.cubic_interpolation: prev_image_index=  8 interpolated_image_index= 11 next_image_index= 16 prev_image_contribution=0.7275390625 next_image_contribution=0.3896484375 prev1_image_index=  0 next1_image_index= 24 prev1_image_contribution=-0.0732421875 next1_image_contribution=-0.0439453125\n",
            "common.write: drive/Shareddrives/Z_interpolation/EPFL_1/images-interpolations/cubic/step=8_011.tif\n",
            "common.cubic_interpolation: prev_image_index=  8 interpolated_image_index= 12 next_image_index= 16 prev_image_contribution=0.5625 next_image_contribution=0.5625 prev1_image_index=  0 next1_image_index= 24 prev1_image_contribution=-0.0625 next1_image_contribution=-0.0625\n",
            "common.write: drive/Shareddrives/Z_interpolation/EPFL_1/images-interpolations/cubic/step=8_012.tif\n",
            "common.cubic_interpolation: prev_image_index=  8 interpolated_image_index= 13 next_image_index= 16 prev_image_contribution=0.3896484375 next_image_contribution=0.7275390625 prev1_image_index=  0 next1_image_index= 24 prev1_image_contribution=-0.0439453125 next1_image_contribution=-0.0732421875\n",
            "common.write: drive/Shareddrives/Z_interpolation/EPFL_1/images-interpolations/cubic/step=8_013.tif\n",
            "common.cubic_interpolation: prev_image_index=  8 interpolated_image_index= 14 next_image_index= 16 prev_image_contribution=0.2265625 next_image_contribution=0.8671875 prev1_image_index=  0 next1_image_index= 24 prev1_image_contribution=-0.0234375 next1_image_contribution=-0.0703125\n",
            "common.write: drive/Shareddrives/Z_interpolation/EPFL_1/images-interpolations/cubic/step=8_014.tif\n",
            "common.cubic_interpolation: prev_image_index=  8 interpolated_image_index= 15 next_image_index= 16 prev_image_contribution=0.0908203125 next_image_contribution=0.9638671875 prev1_image_index=  0 next1_image_index= 24 prev1_image_contribution=-0.0068359375 next1_image_contribution=-0.0478515625\n",
            "common.write: drive/Shareddrives/Z_interpolation/EPFL_1/images-interpolations/cubic/step=8_015.tif\n"
          ],
          "name": "stdout"
        }
      ]
    },
    {
      "cell_type": "code",
      "metadata": {
        "id": "mc9cdgS6T92E"
      },
      "source": [
        "compute_distortion(first_image, N_images, I_step)"
      ],
      "execution_count": null,
      "outputs": []
    },
    {
      "cell_type": "markdown",
      "metadata": {
        "id": "5B2-k33ATf4W"
      },
      "source": [
        "Interpolation step = 16"
      ]
    },
    {
      "cell_type": "code",
      "metadata": {
        "id": "2oCZ7PHwxpk2",
        "colab": {
          "base_uri": "https://localhost:8080/"
        },
        "outputId": "1863af1a-7f15-4e72-ff54-338436eb0545"
      },
      "source": [
        "I_step = 16\n",
        "common.cubic_interpolation(input_images, output_images, first_image, N_images, I_step, show_y_start, show_x_start, show_y_end, show_x_end)"
      ],
      "execution_count": 13,
      "outputs": [
        {
          "output_type": "stream",
          "text": [
            "common.read: drive/Shareddrives/Z_interpolation/EPFL_1/images/016.tif\n",
            "common.read: drive/Shareddrives/Z_interpolation/EPFL_1/images/032.tif\n",
            "common.read: drive/Shareddrives/Z_interpolation/EPFL_1/images/000.tif\n",
            "common.read: drive/Shareddrives/Z_interpolation/EPFL_1/images/048.tif\n",
            "common.cubic_interpolation: prev_image_index= 16 interpolated_image_index= 17 next_image_index= 32 prev_image_contribution=0.9906005859375 next_image_contribution=0.0386962890625 prev1_image_index=  0 next1_image_index= 48 prev1_image_contribution=-0.0274658203125 next1_image_contribution=-0.0018310546875\n",
            "common.write: drive/Shareddrives/Z_interpolation/EPFL_1/images-interpolations/cubic/step=16_017.tif\n",
            "common.cubic_interpolation: prev_image_index= 16 interpolated_image_index= 18 next_image_index= 32 prev_image_contribution=0.9638671875 next_image_contribution=0.0908203125 prev1_image_index=  0 next1_image_index= 48 prev1_image_contribution=-0.0478515625 next1_image_contribution=-0.0068359375\n",
            "common.write: drive/Shareddrives/Z_interpolation/EPFL_1/images-interpolations/cubic/step=16_018.tif\n",
            "common.cubic_interpolation: prev_image_index= 16 interpolated_image_index= 19 next_image_index= 32 prev_image_contribution=0.9219970703125 next_image_contribution=0.1541748046875 prev1_image_index=  0 next1_image_index= 48 prev1_image_contribution=-0.0618896484375 next1_image_contribution=-0.0142822265625\n",
            "common.write: drive/Shareddrives/Z_interpolation/EPFL_1/images-interpolations/cubic/step=16_019.tif\n",
            "common.cubic_interpolation: prev_image_index= 16 interpolated_image_index= 20 next_image_index= 32 prev_image_contribution=0.8671875 next_image_contribution=0.2265625 prev1_image_index=  0 next1_image_index= 48 prev1_image_contribution=-0.0703125 next1_image_contribution=-0.0234375\n",
            "common.write: drive/Shareddrives/Z_interpolation/EPFL_1/images-interpolations/cubic/step=16_020.tif\n",
            "common.cubic_interpolation: prev_image_index= 16 interpolated_image_index= 21 next_image_index= 32 prev_image_contribution=0.8016357421875 next_image_contribution=0.3057861328125 prev1_image_index=  0 next1_image_index= 48 prev1_image_contribution=-0.0738525390625 next1_image_contribution=-0.0335693359375\n",
            "common.write: drive/Shareddrives/Z_interpolation/EPFL_1/images-interpolations/cubic/step=16_021.tif\n",
            "common.cubic_interpolation: prev_image_index= 16 interpolated_image_index= 22 next_image_index= 32 prev_image_contribution=0.7275390625 next_image_contribution=0.3896484375 prev1_image_index=  0 next1_image_index= 48 prev1_image_contribution=-0.0732421875 next1_image_contribution=-0.0439453125\n",
            "common.write: drive/Shareddrives/Z_interpolation/EPFL_1/images-interpolations/cubic/step=16_022.tif\n",
            "common.cubic_interpolation: prev_image_index= 16 interpolated_image_index= 23 next_image_index= 32 prev_image_contribution=0.6470947265625 next_image_contribution=0.4759521484375 prev1_image_index=  0 next1_image_index= 48 prev1_image_contribution=-0.0692138671875 next1_image_contribution=-0.0538330078125\n",
            "common.write: drive/Shareddrives/Z_interpolation/EPFL_1/images-interpolations/cubic/step=16_023.tif\n",
            "common.cubic_interpolation: prev_image_index= 16 interpolated_image_index= 24 next_image_index= 32 prev_image_contribution=0.5625 next_image_contribution=0.5625 prev1_image_index=  0 next1_image_index= 48 prev1_image_contribution=-0.0625 next1_image_contribution=-0.0625\n",
            "common.write: drive/Shareddrives/Z_interpolation/EPFL_1/images-interpolations/cubic/step=16_024.tif\n",
            "common.cubic_interpolation: prev_image_index= 16 interpolated_image_index= 25 next_image_index= 32 prev_image_contribution=0.4759521484375 next_image_contribution=0.6470947265625 prev1_image_index=  0 next1_image_index= 48 prev1_image_contribution=-0.0538330078125 next1_image_contribution=-0.0692138671875\n",
            "common.write: drive/Shareddrives/Z_interpolation/EPFL_1/images-interpolations/cubic/step=16_025.tif\n",
            "common.cubic_interpolation: prev_image_index= 16 interpolated_image_index= 26 next_image_index= 32 prev_image_contribution=0.3896484375 next_image_contribution=0.7275390625 prev1_image_index=  0 next1_image_index= 48 prev1_image_contribution=-0.0439453125 next1_image_contribution=-0.0732421875\n",
            "common.write: drive/Shareddrives/Z_interpolation/EPFL_1/images-interpolations/cubic/step=16_026.tif\n",
            "common.cubic_interpolation: prev_image_index= 16 interpolated_image_index= 27 next_image_index= 32 prev_image_contribution=0.3057861328125 next_image_contribution=0.8016357421875 prev1_image_index=  0 next1_image_index= 48 prev1_image_contribution=-0.0335693359375 next1_image_contribution=-0.0738525390625\n",
            "common.write: drive/Shareddrives/Z_interpolation/EPFL_1/images-interpolations/cubic/step=16_027.tif\n",
            "common.cubic_interpolation: prev_image_index= 16 interpolated_image_index= 28 next_image_index= 32 prev_image_contribution=0.2265625 next_image_contribution=0.8671875 prev1_image_index=  0 next1_image_index= 48 prev1_image_contribution=-0.0234375 next1_image_contribution=-0.0703125\n",
            "common.write: drive/Shareddrives/Z_interpolation/EPFL_1/images-interpolations/cubic/step=16_028.tif\n",
            "common.cubic_interpolation: prev_image_index= 16 interpolated_image_index= 29 next_image_index= 32 prev_image_contribution=0.1541748046875 next_image_contribution=0.9219970703125 prev1_image_index=  0 next1_image_index= 48 prev1_image_contribution=-0.0142822265625 next1_image_contribution=-0.0618896484375\n",
            "common.write: drive/Shareddrives/Z_interpolation/EPFL_1/images-interpolations/cubic/step=16_029.tif\n",
            "common.cubic_interpolation: prev_image_index= 16 interpolated_image_index= 30 next_image_index= 32 prev_image_contribution=0.0908203125 next_image_contribution=0.9638671875 prev1_image_index=  0 next1_image_index= 48 prev1_image_contribution=-0.0068359375 next1_image_contribution=-0.0478515625\n",
            "common.write: drive/Shareddrives/Z_interpolation/EPFL_1/images-interpolations/cubic/step=16_030.tif\n",
            "common.cubic_interpolation: prev_image_index= 16 interpolated_image_index= 31 next_image_index= 32 prev_image_contribution=0.0386962890625 next_image_contribution=0.9906005859375 prev1_image_index=  0 next1_image_index= 48 prev1_image_contribution=-0.0018310546875 next1_image_contribution=-0.0274658203125\n",
            "common.write: drive/Shareddrives/Z_interpolation/EPFL_1/images-interpolations/cubic/step=16_031.tif\n",
            "common.read: drive/Shareddrives/Z_interpolation/EPFL_1/images/032.tif\n",
            "common.read: drive/Shareddrives/Z_interpolation/EPFL_1/images/048.tif\n",
            "common.read: drive/Shareddrives/Z_interpolation/EPFL_1/images/016.tif\n",
            "common.read: drive/Shareddrives/Z_interpolation/EPFL_1/images/064.tif\n",
            "common.cubic_interpolation: prev_image_index= 32 interpolated_image_index= 33 next_image_index= 48 prev_image_contribution=0.9906005859375 next_image_contribution=0.0386962890625 prev1_image_index= 16 next1_image_index= 64 prev1_image_contribution=-0.0274658203125 next1_image_contribution=-0.0018310546875\n",
            "common.write: drive/Shareddrives/Z_interpolation/EPFL_1/images-interpolations/cubic/step=16_033.tif\n",
            "common.cubic_interpolation: prev_image_index= 32 interpolated_image_index= 34 next_image_index= 48 prev_image_contribution=0.9638671875 next_image_contribution=0.0908203125 prev1_image_index= 16 next1_image_index= 64 prev1_image_contribution=-0.0478515625 next1_image_contribution=-0.0068359375\n",
            "common.write: drive/Shareddrives/Z_interpolation/EPFL_1/images-interpolations/cubic/step=16_034.tif\n",
            "common.cubic_interpolation: prev_image_index= 32 interpolated_image_index= 35 next_image_index= 48 prev_image_contribution=0.9219970703125 next_image_contribution=0.1541748046875 prev1_image_index= 16 next1_image_index= 64 prev1_image_contribution=-0.0618896484375 next1_image_contribution=-0.0142822265625\n",
            "common.write: drive/Shareddrives/Z_interpolation/EPFL_1/images-interpolations/cubic/step=16_035.tif\n",
            "common.cubic_interpolation: prev_image_index= 32 interpolated_image_index= 36 next_image_index= 48 prev_image_contribution=0.8671875 next_image_contribution=0.2265625 prev1_image_index= 16 next1_image_index= 64 prev1_image_contribution=-0.0703125 next1_image_contribution=-0.0234375\n",
            "common.write: drive/Shareddrives/Z_interpolation/EPFL_1/images-interpolations/cubic/step=16_036.tif\n",
            "common.cubic_interpolation: prev_image_index= 32 interpolated_image_index= 37 next_image_index= 48 prev_image_contribution=0.8016357421875 next_image_contribution=0.3057861328125 prev1_image_index= 16 next1_image_index= 64 prev1_image_contribution=-0.0738525390625 next1_image_contribution=-0.0335693359375\n",
            "common.write: drive/Shareddrives/Z_interpolation/EPFL_1/images-interpolations/cubic/step=16_037.tif\n",
            "common.cubic_interpolation: prev_image_index= 32 interpolated_image_index= 38 next_image_index= 48 prev_image_contribution=0.7275390625 next_image_contribution=0.3896484375 prev1_image_index= 16 next1_image_index= 64 prev1_image_contribution=-0.0732421875 next1_image_contribution=-0.0439453125\n",
            "common.write: drive/Shareddrives/Z_interpolation/EPFL_1/images-interpolations/cubic/step=16_038.tif\n",
            "common.cubic_interpolation: prev_image_index= 32 interpolated_image_index= 39 next_image_index= 48 prev_image_contribution=0.6470947265625 next_image_contribution=0.4759521484375 prev1_image_index= 16 next1_image_index= 64 prev1_image_contribution=-0.0692138671875 next1_image_contribution=-0.0538330078125\n",
            "common.write: drive/Shareddrives/Z_interpolation/EPFL_1/images-interpolations/cubic/step=16_039.tif\n",
            "common.cubic_interpolation: prev_image_index= 32 interpolated_image_index= 40 next_image_index= 48 prev_image_contribution=0.5625 next_image_contribution=0.5625 prev1_image_index= 16 next1_image_index= 64 prev1_image_contribution=-0.0625 next1_image_contribution=-0.0625\n",
            "common.write: drive/Shareddrives/Z_interpolation/EPFL_1/images-interpolations/cubic/step=16_040.tif\n",
            "common.cubic_interpolation: prev_image_index= 32 interpolated_image_index= 41 next_image_index= 48 prev_image_contribution=0.4759521484375 next_image_contribution=0.6470947265625 prev1_image_index= 16 next1_image_index= 64 prev1_image_contribution=-0.0538330078125 next1_image_contribution=-0.0692138671875\n",
            "common.write: drive/Shareddrives/Z_interpolation/EPFL_1/images-interpolations/cubic/step=16_041.tif\n",
            "common.cubic_interpolation: prev_image_index= 32 interpolated_image_index= 42 next_image_index= 48 prev_image_contribution=0.3896484375 next_image_contribution=0.7275390625 prev1_image_index= 16 next1_image_index= 64 prev1_image_contribution=-0.0439453125 next1_image_contribution=-0.0732421875\n",
            "common.write: drive/Shareddrives/Z_interpolation/EPFL_1/images-interpolations/cubic/step=16_042.tif\n",
            "common.cubic_interpolation: prev_image_index= 32 interpolated_image_index= 43 next_image_index= 48 prev_image_contribution=0.3057861328125 next_image_contribution=0.8016357421875 prev1_image_index= 16 next1_image_index= 64 prev1_image_contribution=-0.0335693359375 next1_image_contribution=-0.0738525390625\n",
            "common.write: drive/Shareddrives/Z_interpolation/EPFL_1/images-interpolations/cubic/step=16_043.tif\n",
            "common.cubic_interpolation: prev_image_index= 32 interpolated_image_index= 44 next_image_index= 48 prev_image_contribution=0.2265625 next_image_contribution=0.8671875 prev1_image_index= 16 next1_image_index= 64 prev1_image_contribution=-0.0234375 next1_image_contribution=-0.0703125\n",
            "common.write: drive/Shareddrives/Z_interpolation/EPFL_1/images-interpolations/cubic/step=16_044.tif\n",
            "common.cubic_interpolation: prev_image_index= 32 interpolated_image_index= 45 next_image_index= 48 prev_image_contribution=0.1541748046875 next_image_contribution=0.9219970703125 prev1_image_index= 16 next1_image_index= 64 prev1_image_contribution=-0.0142822265625 next1_image_contribution=-0.0618896484375\n",
            "common.write: drive/Shareddrives/Z_interpolation/EPFL_1/images-interpolations/cubic/step=16_045.tif\n",
            "common.cubic_interpolation: prev_image_index= 32 interpolated_image_index= 46 next_image_index= 48 prev_image_contribution=0.0908203125 next_image_contribution=0.9638671875 prev1_image_index= 16 next1_image_index= 64 prev1_image_contribution=-0.0068359375 next1_image_contribution=-0.0478515625\n",
            "common.write: drive/Shareddrives/Z_interpolation/EPFL_1/images-interpolations/cubic/step=16_046.tif\n",
            "common.cubic_interpolation: prev_image_index= 32 interpolated_image_index= 47 next_image_index= 48 prev_image_contribution=0.0386962890625 next_image_contribution=0.9906005859375 prev1_image_index= 16 next1_image_index= 64 prev1_image_contribution=-0.0018310546875 next1_image_contribution=-0.0274658203125\n",
            "common.write: drive/Shareddrives/Z_interpolation/EPFL_1/images-interpolations/cubic/step=16_047.tif\n",
            "common.read: drive/Shareddrives/Z_interpolation/EPFL_1/images/048.tif\n",
            "common.read: drive/Shareddrives/Z_interpolation/EPFL_1/images/064.tif\n",
            "common.read: drive/Shareddrives/Z_interpolation/EPFL_1/images/032.tif\n",
            "common.read: drive/Shareddrives/Z_interpolation/EPFL_1/images/080.tif\n",
            "common.cubic_interpolation: prev_image_index= 48 interpolated_image_index= 49 next_image_index= 64 prev_image_contribution=0.9906005859375 next_image_contribution=0.0386962890625 prev1_image_index= 32 next1_image_index= 80 prev1_image_contribution=-0.0274658203125 next1_image_contribution=-0.0018310546875\n",
            "common.write: drive/Shareddrives/Z_interpolation/EPFL_1/images-interpolations/cubic/step=16_049.tif\n",
            "common.cubic_interpolation: prev_image_index= 48 interpolated_image_index= 50 next_image_index= 64 prev_image_contribution=0.9638671875 next_image_contribution=0.0908203125 prev1_image_index= 32 next1_image_index= 80 prev1_image_contribution=-0.0478515625 next1_image_contribution=-0.0068359375\n",
            "common.write: drive/Shareddrives/Z_interpolation/EPFL_1/images-interpolations/cubic/step=16_050.tif\n",
            "common.cubic_interpolation: prev_image_index= 48 interpolated_image_index= 51 next_image_index= 64 prev_image_contribution=0.9219970703125 next_image_contribution=0.1541748046875 prev1_image_index= 32 next1_image_index= 80 prev1_image_contribution=-0.0618896484375 next1_image_contribution=-0.0142822265625\n",
            "common.write: drive/Shareddrives/Z_interpolation/EPFL_1/images-interpolations/cubic/step=16_051.tif\n",
            "common.cubic_interpolation: prev_image_index= 48 interpolated_image_index= 52 next_image_index= 64 prev_image_contribution=0.8671875 next_image_contribution=0.2265625 prev1_image_index= 32 next1_image_index= 80 prev1_image_contribution=-0.0703125 next1_image_contribution=-0.0234375\n",
            "common.write: drive/Shareddrives/Z_interpolation/EPFL_1/images-interpolations/cubic/step=16_052.tif\n",
            "common.cubic_interpolation: prev_image_index= 48 interpolated_image_index= 53 next_image_index= 64 prev_image_contribution=0.8016357421875 next_image_contribution=0.3057861328125 prev1_image_index= 32 next1_image_index= 80 prev1_image_contribution=-0.0738525390625 next1_image_contribution=-0.0335693359375\n",
            "common.write: drive/Shareddrives/Z_interpolation/EPFL_1/images-interpolations/cubic/step=16_053.tif\n",
            "common.cubic_interpolation: prev_image_index= 48 interpolated_image_index= 54 next_image_index= 64 prev_image_contribution=0.7275390625 next_image_contribution=0.3896484375 prev1_image_index= 32 next1_image_index= 80 prev1_image_contribution=-0.0732421875 next1_image_contribution=-0.0439453125\n",
            "common.write: drive/Shareddrives/Z_interpolation/EPFL_1/images-interpolations/cubic/step=16_054.tif\n",
            "common.cubic_interpolation: prev_image_index= 48 interpolated_image_index= 55 next_image_index= 64 prev_image_contribution=0.6470947265625 next_image_contribution=0.4759521484375 prev1_image_index= 32 next1_image_index= 80 prev1_image_contribution=-0.0692138671875 next1_image_contribution=-0.0538330078125\n",
            "common.write: drive/Shareddrives/Z_interpolation/EPFL_1/images-interpolations/cubic/step=16_055.tif\n",
            "common.cubic_interpolation: prev_image_index= 48 interpolated_image_index= 56 next_image_index= 64 prev_image_contribution=0.5625 next_image_contribution=0.5625 prev1_image_index= 32 next1_image_index= 80 prev1_image_contribution=-0.0625 next1_image_contribution=-0.0625\n",
            "common.write: drive/Shareddrives/Z_interpolation/EPFL_1/images-interpolations/cubic/step=16_056.tif\n",
            "common.cubic_interpolation: prev_image_index= 48 interpolated_image_index= 57 next_image_index= 64 prev_image_contribution=0.4759521484375 next_image_contribution=0.6470947265625 prev1_image_index= 32 next1_image_index= 80 prev1_image_contribution=-0.0538330078125 next1_image_contribution=-0.0692138671875\n",
            "common.write: drive/Shareddrives/Z_interpolation/EPFL_1/images-interpolations/cubic/step=16_057.tif\n",
            "common.cubic_interpolation: prev_image_index= 48 interpolated_image_index= 58 next_image_index= 64 prev_image_contribution=0.3896484375 next_image_contribution=0.7275390625 prev1_image_index= 32 next1_image_index= 80 prev1_image_contribution=-0.0439453125 next1_image_contribution=-0.0732421875\n",
            "common.write: drive/Shareddrives/Z_interpolation/EPFL_1/images-interpolations/cubic/step=16_058.tif\n",
            "common.cubic_interpolation: prev_image_index= 48 interpolated_image_index= 59 next_image_index= 64 prev_image_contribution=0.3057861328125 next_image_contribution=0.8016357421875 prev1_image_index= 32 next1_image_index= 80 prev1_image_contribution=-0.0335693359375 next1_image_contribution=-0.0738525390625\n",
            "common.write: drive/Shareddrives/Z_interpolation/EPFL_1/images-interpolations/cubic/step=16_059.tif\n",
            "common.cubic_interpolation: prev_image_index= 48 interpolated_image_index= 60 next_image_index= 64 prev_image_contribution=0.2265625 next_image_contribution=0.8671875 prev1_image_index= 32 next1_image_index= 80 prev1_image_contribution=-0.0234375 next1_image_contribution=-0.0703125\n",
            "common.write: drive/Shareddrives/Z_interpolation/EPFL_1/images-interpolations/cubic/step=16_060.tif\n",
            "common.cubic_interpolation: prev_image_index= 48 interpolated_image_index= 61 next_image_index= 64 prev_image_contribution=0.1541748046875 next_image_contribution=0.9219970703125 prev1_image_index= 32 next1_image_index= 80 prev1_image_contribution=-0.0142822265625 next1_image_contribution=-0.0618896484375\n",
            "common.write: drive/Shareddrives/Z_interpolation/EPFL_1/images-interpolations/cubic/step=16_061.tif\n",
            "common.cubic_interpolation: prev_image_index= 48 interpolated_image_index= 62 next_image_index= 64 prev_image_contribution=0.0908203125 next_image_contribution=0.9638671875 prev1_image_index= 32 next1_image_index= 80 prev1_image_contribution=-0.0068359375 next1_image_contribution=-0.0478515625\n",
            "common.write: drive/Shareddrives/Z_interpolation/EPFL_1/images-interpolations/cubic/step=16_062.tif\n",
            "common.cubic_interpolation: prev_image_index= 48 interpolated_image_index= 63 next_image_index= 64 prev_image_contribution=0.0386962890625 next_image_contribution=0.9906005859375 prev1_image_index= 32 next1_image_index= 80 prev1_image_contribution=-0.0018310546875 next1_image_contribution=-0.0274658203125\n",
            "common.write: drive/Shareddrives/Z_interpolation/EPFL_1/images-interpolations/cubic/step=16_063.tif\n",
            "common.read: drive/Shareddrives/Z_interpolation/EPFL_1/images/064.tif\n",
            "common.read: drive/Shareddrives/Z_interpolation/EPFL_1/images/080.tif\n",
            "common.read: drive/Shareddrives/Z_interpolation/EPFL_1/images/048.tif\n",
            "common.read: drive/Shareddrives/Z_interpolation/EPFL_1/images/096.tif\n",
            "common.cubic_interpolation: prev_image_index= 64 interpolated_image_index= 65 next_image_index= 80 prev_image_contribution=0.9906005859375 next_image_contribution=0.0386962890625 prev1_image_index= 48 next1_image_index= 96 prev1_image_contribution=-0.0274658203125 next1_image_contribution=-0.0018310546875\n",
            "common.write: drive/Shareddrives/Z_interpolation/EPFL_1/images-interpolations/cubic/step=16_065.tif\n",
            "common.cubic_interpolation: prev_image_index= 64 interpolated_image_index= 66 next_image_index= 80 prev_image_contribution=0.9638671875 next_image_contribution=0.0908203125 prev1_image_index= 48 next1_image_index= 96 prev1_image_contribution=-0.0478515625 next1_image_contribution=-0.0068359375\n",
            "common.write: drive/Shareddrives/Z_interpolation/EPFL_1/images-interpolations/cubic/step=16_066.tif\n",
            "common.cubic_interpolation: prev_image_index= 64 interpolated_image_index= 67 next_image_index= 80 prev_image_contribution=0.9219970703125 next_image_contribution=0.1541748046875 prev1_image_index= 48 next1_image_index= 96 prev1_image_contribution=-0.0618896484375 next1_image_contribution=-0.0142822265625\n",
            "common.write: drive/Shareddrives/Z_interpolation/EPFL_1/images-interpolations/cubic/step=16_067.tif\n",
            "common.cubic_interpolation: prev_image_index= 64 interpolated_image_index= 68 next_image_index= 80 prev_image_contribution=0.8671875 next_image_contribution=0.2265625 prev1_image_index= 48 next1_image_index= 96 prev1_image_contribution=-0.0703125 next1_image_contribution=-0.0234375\n",
            "common.write: drive/Shareddrives/Z_interpolation/EPFL_1/images-interpolations/cubic/step=16_068.tif\n",
            "common.cubic_interpolation: prev_image_index= 64 interpolated_image_index= 69 next_image_index= 80 prev_image_contribution=0.8016357421875 next_image_contribution=0.3057861328125 prev1_image_index= 48 next1_image_index= 96 prev1_image_contribution=-0.0738525390625 next1_image_contribution=-0.0335693359375\n",
            "common.write: drive/Shareddrives/Z_interpolation/EPFL_1/images-interpolations/cubic/step=16_069.tif\n",
            "common.cubic_interpolation: prev_image_index= 64 interpolated_image_index= 70 next_image_index= 80 prev_image_contribution=0.7275390625 next_image_contribution=0.3896484375 prev1_image_index= 48 next1_image_index= 96 prev1_image_contribution=-0.0732421875 next1_image_contribution=-0.0439453125\n",
            "common.write: drive/Shareddrives/Z_interpolation/EPFL_1/images-interpolations/cubic/step=16_070.tif\n",
            "common.cubic_interpolation: prev_image_index= 64 interpolated_image_index= 71 next_image_index= 80 prev_image_contribution=0.6470947265625 next_image_contribution=0.4759521484375 prev1_image_index= 48 next1_image_index= 96 prev1_image_contribution=-0.0692138671875 next1_image_contribution=-0.0538330078125\n",
            "common.write: drive/Shareddrives/Z_interpolation/EPFL_1/images-interpolations/cubic/step=16_071.tif\n",
            "common.cubic_interpolation: prev_image_index= 64 interpolated_image_index= 72 next_image_index= 80 prev_image_contribution=0.5625 next_image_contribution=0.5625 prev1_image_index= 48 next1_image_index= 96 prev1_image_contribution=-0.0625 next1_image_contribution=-0.0625\n",
            "common.write: drive/Shareddrives/Z_interpolation/EPFL_1/images-interpolations/cubic/step=16_072.tif\n",
            "common.cubic_interpolation: prev_image_index= 64 interpolated_image_index= 73 next_image_index= 80 prev_image_contribution=0.4759521484375 next_image_contribution=0.6470947265625 prev1_image_index= 48 next1_image_index= 96 prev1_image_contribution=-0.0538330078125 next1_image_contribution=-0.0692138671875\n",
            "common.write: drive/Shareddrives/Z_interpolation/EPFL_1/images-interpolations/cubic/step=16_073.tif\n",
            "common.cubic_interpolation: prev_image_index= 64 interpolated_image_index= 74 next_image_index= 80 prev_image_contribution=0.3896484375 next_image_contribution=0.7275390625 prev1_image_index= 48 next1_image_index= 96 prev1_image_contribution=-0.0439453125 next1_image_contribution=-0.0732421875\n",
            "common.write: drive/Shareddrives/Z_interpolation/EPFL_1/images-interpolations/cubic/step=16_074.tif\n",
            "common.cubic_interpolation: prev_image_index= 64 interpolated_image_index= 75 next_image_index= 80 prev_image_contribution=0.3057861328125 next_image_contribution=0.8016357421875 prev1_image_index= 48 next1_image_index= 96 prev1_image_contribution=-0.0335693359375 next1_image_contribution=-0.0738525390625\n",
            "common.write: drive/Shareddrives/Z_interpolation/EPFL_1/images-interpolations/cubic/step=16_075.tif\n",
            "common.cubic_interpolation: prev_image_index= 64 interpolated_image_index= 76 next_image_index= 80 prev_image_contribution=0.2265625 next_image_contribution=0.8671875 prev1_image_index= 48 next1_image_index= 96 prev1_image_contribution=-0.0234375 next1_image_contribution=-0.0703125\n",
            "common.write: drive/Shareddrives/Z_interpolation/EPFL_1/images-interpolations/cubic/step=16_076.tif\n",
            "common.cubic_interpolation: prev_image_index= 64 interpolated_image_index= 77 next_image_index= 80 prev_image_contribution=0.1541748046875 next_image_contribution=0.9219970703125 prev1_image_index= 48 next1_image_index= 96 prev1_image_contribution=-0.0142822265625 next1_image_contribution=-0.0618896484375\n",
            "common.write: drive/Shareddrives/Z_interpolation/EPFL_1/images-interpolations/cubic/step=16_077.tif\n",
            "common.cubic_interpolation: prev_image_index= 64 interpolated_image_index= 78 next_image_index= 80 prev_image_contribution=0.0908203125 next_image_contribution=0.9638671875 prev1_image_index= 48 next1_image_index= 96 prev1_image_contribution=-0.0068359375 next1_image_contribution=-0.0478515625\n",
            "common.write: drive/Shareddrives/Z_interpolation/EPFL_1/images-interpolations/cubic/step=16_078.tif\n",
            "common.cubic_interpolation: prev_image_index= 64 interpolated_image_index= 79 next_image_index= 80 prev_image_contribution=0.0386962890625 next_image_contribution=0.9906005859375 prev1_image_index= 48 next1_image_index= 96 prev1_image_contribution=-0.0018310546875 next1_image_contribution=-0.0274658203125\n",
            "common.write: drive/Shareddrives/Z_interpolation/EPFL_1/images-interpolations/cubic/step=16_079.tif\n",
            "common.read: drive/Shareddrives/Z_interpolation/EPFL_1/images/080.tif\n",
            "common.read: drive/Shareddrives/Z_interpolation/EPFL_1/images/096.tif\n",
            "common.read: drive/Shareddrives/Z_interpolation/EPFL_1/images/064.tif\n",
            "common.read: drive/Shareddrives/Z_interpolation/EPFL_1/images/112.tif\n",
            "common.cubic_interpolation: prev_image_index= 80 interpolated_image_index= 81 next_image_index= 96 prev_image_contribution=0.9906005859375 next_image_contribution=0.0386962890625 prev1_image_index= 64 next1_image_index=112 prev1_image_contribution=-0.0274658203125 next1_image_contribution=-0.0018310546875\n",
            "common.write: drive/Shareddrives/Z_interpolation/EPFL_1/images-interpolations/cubic/step=16_081.tif\n",
            "common.cubic_interpolation: prev_image_index= 80 interpolated_image_index= 82 next_image_index= 96 prev_image_contribution=0.9638671875 next_image_contribution=0.0908203125 prev1_image_index= 64 next1_image_index=112 prev1_image_contribution=-0.0478515625 next1_image_contribution=-0.0068359375\n",
            "common.write: drive/Shareddrives/Z_interpolation/EPFL_1/images-interpolations/cubic/step=16_082.tif\n",
            "common.cubic_interpolation: prev_image_index= 80 interpolated_image_index= 83 next_image_index= 96 prev_image_contribution=0.9219970703125 next_image_contribution=0.1541748046875 prev1_image_index= 64 next1_image_index=112 prev1_image_contribution=-0.0618896484375 next1_image_contribution=-0.0142822265625\n",
            "common.write: drive/Shareddrives/Z_interpolation/EPFL_1/images-interpolations/cubic/step=16_083.tif\n",
            "common.cubic_interpolation: prev_image_index= 80 interpolated_image_index= 84 next_image_index= 96 prev_image_contribution=0.8671875 next_image_contribution=0.2265625 prev1_image_index= 64 next1_image_index=112 prev1_image_contribution=-0.0703125 next1_image_contribution=-0.0234375\n",
            "common.write: drive/Shareddrives/Z_interpolation/EPFL_1/images-interpolations/cubic/step=16_084.tif\n",
            "common.cubic_interpolation: prev_image_index= 80 interpolated_image_index= 85 next_image_index= 96 prev_image_contribution=0.8016357421875 next_image_contribution=0.3057861328125 prev1_image_index= 64 next1_image_index=112 prev1_image_contribution=-0.0738525390625 next1_image_contribution=-0.0335693359375\n",
            "common.write: drive/Shareddrives/Z_interpolation/EPFL_1/images-interpolations/cubic/step=16_085.tif\n",
            "common.cubic_interpolation: prev_image_index= 80 interpolated_image_index= 86 next_image_index= 96 prev_image_contribution=0.7275390625 next_image_contribution=0.3896484375 prev1_image_index= 64 next1_image_index=112 prev1_image_contribution=-0.0732421875 next1_image_contribution=-0.0439453125\n",
            "common.write: drive/Shareddrives/Z_interpolation/EPFL_1/images-interpolations/cubic/step=16_086.tif\n",
            "common.cubic_interpolation: prev_image_index= 80 interpolated_image_index= 87 next_image_index= 96 prev_image_contribution=0.6470947265625 next_image_contribution=0.4759521484375 prev1_image_index= 64 next1_image_index=112 prev1_image_contribution=-0.0692138671875 next1_image_contribution=-0.0538330078125\n",
            "common.write: drive/Shareddrives/Z_interpolation/EPFL_1/images-interpolations/cubic/step=16_087.tif\n",
            "common.cubic_interpolation: prev_image_index= 80 interpolated_image_index= 88 next_image_index= 96 prev_image_contribution=0.5625 next_image_contribution=0.5625 prev1_image_index= 64 next1_image_index=112 prev1_image_contribution=-0.0625 next1_image_contribution=-0.0625\n",
            "common.write: drive/Shareddrives/Z_interpolation/EPFL_1/images-interpolations/cubic/step=16_088.tif\n",
            "common.cubic_interpolation: prev_image_index= 80 interpolated_image_index= 89 next_image_index= 96 prev_image_contribution=0.4759521484375 next_image_contribution=0.6470947265625 prev1_image_index= 64 next1_image_index=112 prev1_image_contribution=-0.0538330078125 next1_image_contribution=-0.0692138671875\n",
            "common.write: drive/Shareddrives/Z_interpolation/EPFL_1/images-interpolations/cubic/step=16_089.tif\n",
            "common.cubic_interpolation: prev_image_index= 80 interpolated_image_index= 90 next_image_index= 96 prev_image_contribution=0.3896484375 next_image_contribution=0.7275390625 prev1_image_index= 64 next1_image_index=112 prev1_image_contribution=-0.0439453125 next1_image_contribution=-0.0732421875\n",
            "common.write: drive/Shareddrives/Z_interpolation/EPFL_1/images-interpolations/cubic/step=16_090.tif\n",
            "common.cubic_interpolation: prev_image_index= 80 interpolated_image_index= 91 next_image_index= 96 prev_image_contribution=0.3057861328125 next_image_contribution=0.8016357421875 prev1_image_index= 64 next1_image_index=112 prev1_image_contribution=-0.0335693359375 next1_image_contribution=-0.0738525390625\n",
            "common.write: drive/Shareddrives/Z_interpolation/EPFL_1/images-interpolations/cubic/step=16_091.tif\n",
            "common.cubic_interpolation: prev_image_index= 80 interpolated_image_index= 92 next_image_index= 96 prev_image_contribution=0.2265625 next_image_contribution=0.8671875 prev1_image_index= 64 next1_image_index=112 prev1_image_contribution=-0.0234375 next1_image_contribution=-0.0703125\n",
            "common.write: drive/Shareddrives/Z_interpolation/EPFL_1/images-interpolations/cubic/step=16_092.tif\n",
            "common.cubic_interpolation: prev_image_index= 80 interpolated_image_index= 93 next_image_index= 96 prev_image_contribution=0.1541748046875 next_image_contribution=0.9219970703125 prev1_image_index= 64 next1_image_index=112 prev1_image_contribution=-0.0142822265625 next1_image_contribution=-0.0618896484375\n",
            "common.write: drive/Shareddrives/Z_interpolation/EPFL_1/images-interpolations/cubic/step=16_093.tif\n",
            "common.cubic_interpolation: prev_image_index= 80 interpolated_image_index= 94 next_image_index= 96 prev_image_contribution=0.0908203125 next_image_contribution=0.9638671875 prev1_image_index= 64 next1_image_index=112 prev1_image_contribution=-0.0068359375 next1_image_contribution=-0.0478515625\n",
            "common.write: drive/Shareddrives/Z_interpolation/EPFL_1/images-interpolations/cubic/step=16_094.tif\n",
            "common.cubic_interpolation: prev_image_index= 80 interpolated_image_index= 95 next_image_index= 96 prev_image_contribution=0.0386962890625 next_image_contribution=0.9906005859375 prev1_image_index= 64 next1_image_index=112 prev1_image_contribution=-0.0018310546875 next1_image_contribution=-0.0274658203125\n",
            "common.write: drive/Shareddrives/Z_interpolation/EPFL_1/images-interpolations/cubic/step=16_095.tif\n",
            "common.read: drive/Shareddrives/Z_interpolation/EPFL_1/images/096.tif\n",
            "common.read: drive/Shareddrives/Z_interpolation/EPFL_1/images/112.tif\n",
            "common.read: drive/Shareddrives/Z_interpolation/EPFL_1/images/080.tif\n",
            "common.read: drive/Shareddrives/Z_interpolation/EPFL_1/images/128.tif\n",
            "common.cubic_interpolation: prev_image_index= 96 interpolated_image_index= 97 next_image_index=112 prev_image_contribution=0.9906005859375 next_image_contribution=0.0386962890625 prev1_image_index= 80 next1_image_index=128 prev1_image_contribution=-0.0274658203125 next1_image_contribution=-0.0018310546875\n",
            "common.write: drive/Shareddrives/Z_interpolation/EPFL_1/images-interpolations/cubic/step=16_097.tif\n",
            "common.cubic_interpolation: prev_image_index= 96 interpolated_image_index= 98 next_image_index=112 prev_image_contribution=0.9638671875 next_image_contribution=0.0908203125 prev1_image_index= 80 next1_image_index=128 prev1_image_contribution=-0.0478515625 next1_image_contribution=-0.0068359375\n",
            "common.write: drive/Shareddrives/Z_interpolation/EPFL_1/images-interpolations/cubic/step=16_098.tif\n",
            "common.cubic_interpolation: prev_image_index= 96 interpolated_image_index= 99 next_image_index=112 prev_image_contribution=0.9219970703125 next_image_contribution=0.1541748046875 prev1_image_index= 80 next1_image_index=128 prev1_image_contribution=-0.0618896484375 next1_image_contribution=-0.0142822265625\n",
            "common.write: drive/Shareddrives/Z_interpolation/EPFL_1/images-interpolations/cubic/step=16_099.tif\n",
            "common.cubic_interpolation: prev_image_index= 96 interpolated_image_index=100 next_image_index=112 prev_image_contribution=0.8671875 next_image_contribution=0.2265625 prev1_image_index= 80 next1_image_index=128 prev1_image_contribution=-0.0703125 next1_image_contribution=-0.0234375\n",
            "common.write: drive/Shareddrives/Z_interpolation/EPFL_1/images-interpolations/cubic/step=16_100.tif\n",
            "common.cubic_interpolation: prev_image_index= 96 interpolated_image_index=101 next_image_index=112 prev_image_contribution=0.8016357421875 next_image_contribution=0.3057861328125 prev1_image_index= 80 next1_image_index=128 prev1_image_contribution=-0.0738525390625 next1_image_contribution=-0.0335693359375\n",
            "common.write: drive/Shareddrives/Z_interpolation/EPFL_1/images-interpolations/cubic/step=16_101.tif\n",
            "common.cubic_interpolation: prev_image_index= 96 interpolated_image_index=102 next_image_index=112 prev_image_contribution=0.7275390625 next_image_contribution=0.3896484375 prev1_image_index= 80 next1_image_index=128 prev1_image_contribution=-0.0732421875 next1_image_contribution=-0.0439453125\n",
            "common.write: drive/Shareddrives/Z_interpolation/EPFL_1/images-interpolations/cubic/step=16_102.tif\n",
            "common.cubic_interpolation: prev_image_index= 96 interpolated_image_index=103 next_image_index=112 prev_image_contribution=0.6470947265625 next_image_contribution=0.4759521484375 prev1_image_index= 80 next1_image_index=128 prev1_image_contribution=-0.0692138671875 next1_image_contribution=-0.0538330078125\n",
            "common.write: drive/Shareddrives/Z_interpolation/EPFL_1/images-interpolations/cubic/step=16_103.tif\n",
            "common.cubic_interpolation: prev_image_index= 96 interpolated_image_index=104 next_image_index=112 prev_image_contribution=0.5625 next_image_contribution=0.5625 prev1_image_index= 80 next1_image_index=128 prev1_image_contribution=-0.0625 next1_image_contribution=-0.0625\n",
            "common.write: drive/Shareddrives/Z_interpolation/EPFL_1/images-interpolations/cubic/step=16_104.tif\n",
            "common.cubic_interpolation: prev_image_index= 96 interpolated_image_index=105 next_image_index=112 prev_image_contribution=0.4759521484375 next_image_contribution=0.6470947265625 prev1_image_index= 80 next1_image_index=128 prev1_image_contribution=-0.0538330078125 next1_image_contribution=-0.0692138671875\n",
            "common.write: drive/Shareddrives/Z_interpolation/EPFL_1/images-interpolations/cubic/step=16_105.tif\n",
            "common.cubic_interpolation: prev_image_index= 96 interpolated_image_index=106 next_image_index=112 prev_image_contribution=0.3896484375 next_image_contribution=0.7275390625 prev1_image_index= 80 next1_image_index=128 prev1_image_contribution=-0.0439453125 next1_image_contribution=-0.0732421875\n",
            "common.write: drive/Shareddrives/Z_interpolation/EPFL_1/images-interpolations/cubic/step=16_106.tif\n",
            "common.cubic_interpolation: prev_image_index= 96 interpolated_image_index=107 next_image_index=112 prev_image_contribution=0.3057861328125 next_image_contribution=0.8016357421875 prev1_image_index= 80 next1_image_index=128 prev1_image_contribution=-0.0335693359375 next1_image_contribution=-0.0738525390625\n",
            "common.write: drive/Shareddrives/Z_interpolation/EPFL_1/images-interpolations/cubic/step=16_107.tif\n",
            "common.cubic_interpolation: prev_image_index= 96 interpolated_image_index=108 next_image_index=112 prev_image_contribution=0.2265625 next_image_contribution=0.8671875 prev1_image_index= 80 next1_image_index=128 prev1_image_contribution=-0.0234375 next1_image_contribution=-0.0703125\n",
            "common.write: drive/Shareddrives/Z_interpolation/EPFL_1/images-interpolations/cubic/step=16_108.tif\n",
            "common.cubic_interpolation: prev_image_index= 96 interpolated_image_index=109 next_image_index=112 prev_image_contribution=0.1541748046875 next_image_contribution=0.9219970703125 prev1_image_index= 80 next1_image_index=128 prev1_image_contribution=-0.0142822265625 next1_image_contribution=-0.0618896484375\n",
            "common.write: drive/Shareddrives/Z_interpolation/EPFL_1/images-interpolations/cubic/step=16_109.tif\n",
            "common.cubic_interpolation: prev_image_index= 96 interpolated_image_index=110 next_image_index=112 prev_image_contribution=0.0908203125 next_image_contribution=0.9638671875 prev1_image_index= 80 next1_image_index=128 prev1_image_contribution=-0.0068359375 next1_image_contribution=-0.0478515625\n",
            "common.write: drive/Shareddrives/Z_interpolation/EPFL_1/images-interpolations/cubic/step=16_110.tif\n",
            "common.cubic_interpolation: prev_image_index= 96 interpolated_image_index=111 next_image_index=112 prev_image_contribution=0.0386962890625 next_image_contribution=0.9906005859375 prev1_image_index= 80 next1_image_index=128 prev1_image_contribution=-0.0018310546875 next1_image_contribution=-0.0274658203125\n",
            "common.write: drive/Shareddrives/Z_interpolation/EPFL_1/images-interpolations/cubic/step=16_111.tif\n",
            "common.read: drive/Shareddrives/Z_interpolation/EPFL_1/images/112.tif\n",
            "common.read: drive/Shareddrives/Z_interpolation/EPFL_1/images/128.tif\n",
            "common.read: drive/Shareddrives/Z_interpolation/EPFL_1/images/096.tif\n",
            "common.read: drive/Shareddrives/Z_interpolation/EPFL_1/images/144.tif\n",
            "common.cubic_interpolation: prev_image_index=112 interpolated_image_index=113 next_image_index=128 prev_image_contribution=0.9906005859375 next_image_contribution=0.0386962890625 prev1_image_index= 96 next1_image_index=144 prev1_image_contribution=-0.0274658203125 next1_image_contribution=-0.0018310546875\n",
            "common.write: drive/Shareddrives/Z_interpolation/EPFL_1/images-interpolations/cubic/step=16_113.tif\n",
            "common.cubic_interpolation: prev_image_index=112 interpolated_image_index=114 next_image_index=128 prev_image_contribution=0.9638671875 next_image_contribution=0.0908203125 prev1_image_index= 96 next1_image_index=144 prev1_image_contribution=-0.0478515625 next1_image_contribution=-0.0068359375\n",
            "common.write: drive/Shareddrives/Z_interpolation/EPFL_1/images-interpolations/cubic/step=16_114.tif\n",
            "common.cubic_interpolation: prev_image_index=112 interpolated_image_index=115 next_image_index=128 prev_image_contribution=0.9219970703125 next_image_contribution=0.1541748046875 prev1_image_index= 96 next1_image_index=144 prev1_image_contribution=-0.0618896484375 next1_image_contribution=-0.0142822265625\n",
            "common.write: drive/Shareddrives/Z_interpolation/EPFL_1/images-interpolations/cubic/step=16_115.tif\n",
            "common.cubic_interpolation: prev_image_index=112 interpolated_image_index=116 next_image_index=128 prev_image_contribution=0.8671875 next_image_contribution=0.2265625 prev1_image_index= 96 next1_image_index=144 prev1_image_contribution=-0.0703125 next1_image_contribution=-0.0234375\n",
            "common.write: drive/Shareddrives/Z_interpolation/EPFL_1/images-interpolations/cubic/step=16_116.tif\n",
            "common.cubic_interpolation: prev_image_index=112 interpolated_image_index=117 next_image_index=128 prev_image_contribution=0.8016357421875 next_image_contribution=0.3057861328125 prev1_image_index= 96 next1_image_index=144 prev1_image_contribution=-0.0738525390625 next1_image_contribution=-0.0335693359375\n",
            "common.write: drive/Shareddrives/Z_interpolation/EPFL_1/images-interpolations/cubic/step=16_117.tif\n",
            "common.cubic_interpolation: prev_image_index=112 interpolated_image_index=118 next_image_index=128 prev_image_contribution=0.7275390625 next_image_contribution=0.3896484375 prev1_image_index= 96 next1_image_index=144 prev1_image_contribution=-0.0732421875 next1_image_contribution=-0.0439453125\n",
            "common.write: drive/Shareddrives/Z_interpolation/EPFL_1/images-interpolations/cubic/step=16_118.tif\n",
            "common.cubic_interpolation: prev_image_index=112 interpolated_image_index=119 next_image_index=128 prev_image_contribution=0.6470947265625 next_image_contribution=0.4759521484375 prev1_image_index= 96 next1_image_index=144 prev1_image_contribution=-0.0692138671875 next1_image_contribution=-0.0538330078125\n",
            "common.write: drive/Shareddrives/Z_interpolation/EPFL_1/images-interpolations/cubic/step=16_119.tif\n",
            "common.cubic_interpolation: prev_image_index=112 interpolated_image_index=120 next_image_index=128 prev_image_contribution=0.5625 next_image_contribution=0.5625 prev1_image_index= 96 next1_image_index=144 prev1_image_contribution=-0.0625 next1_image_contribution=-0.0625\n",
            "common.write: drive/Shareddrives/Z_interpolation/EPFL_1/images-interpolations/cubic/step=16_120.tif\n",
            "common.cubic_interpolation: prev_image_index=112 interpolated_image_index=121 next_image_index=128 prev_image_contribution=0.4759521484375 next_image_contribution=0.6470947265625 prev1_image_index= 96 next1_image_index=144 prev1_image_contribution=-0.0538330078125 next1_image_contribution=-0.0692138671875\n",
            "common.write: drive/Shareddrives/Z_interpolation/EPFL_1/images-interpolations/cubic/step=16_121.tif\n",
            "common.cubic_interpolation: prev_image_index=112 interpolated_image_index=122 next_image_index=128 prev_image_contribution=0.3896484375 next_image_contribution=0.7275390625 prev1_image_index= 96 next1_image_index=144 prev1_image_contribution=-0.0439453125 next1_image_contribution=-0.0732421875\n",
            "common.write: drive/Shareddrives/Z_interpolation/EPFL_1/images-interpolations/cubic/step=16_122.tif\n",
            "common.cubic_interpolation: prev_image_index=112 interpolated_image_index=123 next_image_index=128 prev_image_contribution=0.3057861328125 next_image_contribution=0.8016357421875 prev1_image_index= 96 next1_image_index=144 prev1_image_contribution=-0.0335693359375 next1_image_contribution=-0.0738525390625\n",
            "common.write: drive/Shareddrives/Z_interpolation/EPFL_1/images-interpolations/cubic/step=16_123.tif\n",
            "common.cubic_interpolation: prev_image_index=112 interpolated_image_index=124 next_image_index=128 prev_image_contribution=0.2265625 next_image_contribution=0.8671875 prev1_image_index= 96 next1_image_index=144 prev1_image_contribution=-0.0234375 next1_image_contribution=-0.0703125\n",
            "common.write: drive/Shareddrives/Z_interpolation/EPFL_1/images-interpolations/cubic/step=16_124.tif\n",
            "common.cubic_interpolation: prev_image_index=112 interpolated_image_index=125 next_image_index=128 prev_image_contribution=0.1541748046875 next_image_contribution=0.9219970703125 prev1_image_index= 96 next1_image_index=144 prev1_image_contribution=-0.0142822265625 next1_image_contribution=-0.0618896484375\n",
            "common.write: drive/Shareddrives/Z_interpolation/EPFL_1/images-interpolations/cubic/step=16_125.tif\n",
            "common.cubic_interpolation: prev_image_index=112 interpolated_image_index=126 next_image_index=128 prev_image_contribution=0.0908203125 next_image_contribution=0.9638671875 prev1_image_index= 96 next1_image_index=144 prev1_image_contribution=-0.0068359375 next1_image_contribution=-0.0478515625\n",
            "common.write: drive/Shareddrives/Z_interpolation/EPFL_1/images-interpolations/cubic/step=16_126.tif\n",
            "common.cubic_interpolation: prev_image_index=112 interpolated_image_index=127 next_image_index=128 prev_image_contribution=0.0386962890625 next_image_contribution=0.9906005859375 prev1_image_index= 96 next1_image_index=144 prev1_image_contribution=-0.0018310546875 next1_image_contribution=-0.0274658203125\n",
            "common.write: drive/Shareddrives/Z_interpolation/EPFL_1/images-interpolations/cubic/step=16_127.tif\n"
          ],
          "name": "stdout"
        }
      ]
    },
    {
      "cell_type": "code",
      "metadata": {
        "colab": {
          "base_uri": "https://localhost:8080/"
        },
        "id": "etxNdgd_TlAb",
        "outputId": "888cae30-f81d-4cab-e303-820b1925ae09"
      },
      "source": [
        "compute_distortion(first_image, N_images, I_step)"
      ],
      "execution_count": 15,
      "outputs": [
        {
          "output_type": "stream",
          "text": [
            "common.read: drive/Shareddrives/Z_interpolation/EPFL_1/images/017.tif\n",
            "common.read: drive/Shareddrives/Z_interpolation/EPFL_1/images-interpolations/cubic/step=16_017.tif\n",
            "common.write: drive/Shareddrives/Z_interpolation/EPFL_1/images-SSIM/cubic/step=16_017.tif\n",
            "17 SSIM=0.525\n",
            "common.read: drive/Shareddrives/Z_interpolation/EPFL_1/images/018.tif\n",
            "common.read: drive/Shareddrives/Z_interpolation/EPFL_1/images-interpolations/cubic/step=16_018.tif\n",
            "common.write: drive/Shareddrives/Z_interpolation/EPFL_1/images-SSIM/cubic/step=16_018.tif\n",
            "18 SSIM=0.467\n",
            "common.read: drive/Shareddrives/Z_interpolation/EPFL_1/images/019.tif\n",
            "common.read: drive/Shareddrives/Z_interpolation/EPFL_1/images-interpolations/cubic/step=16_019.tif\n",
            "common.write: drive/Shareddrives/Z_interpolation/EPFL_1/images-SSIM/cubic/step=16_019.tif\n",
            "19 SSIM=0.391\n",
            "common.read: drive/Shareddrives/Z_interpolation/EPFL_1/images/020.tif\n",
            "common.read: drive/Shareddrives/Z_interpolation/EPFL_1/images-interpolations/cubic/step=16_020.tif\n",
            "common.write: drive/Shareddrives/Z_interpolation/EPFL_1/images-SSIM/cubic/step=16_020.tif\n",
            "20 SSIM=0.318\n",
            "common.read: drive/Shareddrives/Z_interpolation/EPFL_1/images/021.tif\n",
            "common.read: drive/Shareddrives/Z_interpolation/EPFL_1/images-interpolations/cubic/step=16_021.tif\n",
            "common.write: drive/Shareddrives/Z_interpolation/EPFL_1/images-SSIM/cubic/step=16_021.tif\n",
            "21 SSIM=0.260\n",
            "common.read: drive/Shareddrives/Z_interpolation/EPFL_1/images/022.tif\n",
            "common.read: drive/Shareddrives/Z_interpolation/EPFL_1/images-interpolations/cubic/step=16_022.tif\n",
            "common.write: drive/Shareddrives/Z_interpolation/EPFL_1/images-SSIM/cubic/step=16_022.tif\n",
            "22 SSIM=0.213\n",
            "common.read: drive/Shareddrives/Z_interpolation/EPFL_1/images/023.tif\n",
            "common.read: drive/Shareddrives/Z_interpolation/EPFL_1/images-interpolations/cubic/step=16_023.tif\n",
            "common.write: drive/Shareddrives/Z_interpolation/EPFL_1/images-SSIM/cubic/step=16_023.tif\n",
            "23 SSIM=0.183\n",
            "common.read: drive/Shareddrives/Z_interpolation/EPFL_1/images/024.tif\n",
            "common.read: drive/Shareddrives/Z_interpolation/EPFL_1/images-interpolations/cubic/step=16_024.tif\n",
            "common.write: drive/Shareddrives/Z_interpolation/EPFL_1/images-SSIM/cubic/step=16_024.tif\n",
            "24 SSIM=0.172\n",
            "common.read: drive/Shareddrives/Z_interpolation/EPFL_1/images/025.tif\n",
            "common.read: drive/Shareddrives/Z_interpolation/EPFL_1/images-interpolations/cubic/step=16_025.tif\n",
            "common.write: drive/Shareddrives/Z_interpolation/EPFL_1/images-SSIM/cubic/step=16_025.tif\n",
            "25 SSIM=0.171\n",
            "common.read: drive/Shareddrives/Z_interpolation/EPFL_1/images/026.tif\n",
            "common.read: drive/Shareddrives/Z_interpolation/EPFL_1/images-interpolations/cubic/step=16_026.tif\n",
            "common.write: drive/Shareddrives/Z_interpolation/EPFL_1/images-SSIM/cubic/step=16_026.tif\n",
            "26 SSIM=0.197\n",
            "common.read: drive/Shareddrives/Z_interpolation/EPFL_1/images/027.tif\n",
            "common.read: drive/Shareddrives/Z_interpolation/EPFL_1/images-interpolations/cubic/step=16_027.tif\n",
            "common.write: drive/Shareddrives/Z_interpolation/EPFL_1/images-SSIM/cubic/step=16_027.tif\n",
            "27 SSIM=0.233\n",
            "common.read: drive/Shareddrives/Z_interpolation/EPFL_1/images/028.tif\n",
            "common.read: drive/Shareddrives/Z_interpolation/EPFL_1/images-interpolations/cubic/step=16_028.tif\n",
            "common.write: drive/Shareddrives/Z_interpolation/EPFL_1/images-SSIM/cubic/step=16_028.tif\n",
            "28 SSIM=0.301\n",
            "common.read: drive/Shareddrives/Z_interpolation/EPFL_1/images/029.tif\n",
            "common.read: drive/Shareddrives/Z_interpolation/EPFL_1/images-interpolations/cubic/step=16_029.tif\n",
            "common.write: drive/Shareddrives/Z_interpolation/EPFL_1/images-SSIM/cubic/step=16_029.tif\n",
            "29 SSIM=0.387\n",
            "common.read: drive/Shareddrives/Z_interpolation/EPFL_1/images/030.tif\n",
            "common.read: drive/Shareddrives/Z_interpolation/EPFL_1/images-interpolations/cubic/step=16_030.tif\n",
            "common.write: drive/Shareddrives/Z_interpolation/EPFL_1/images-SSIM/cubic/step=16_030.tif\n",
            "30 SSIM=0.467\n",
            "common.read: drive/Shareddrives/Z_interpolation/EPFL_1/images/031.tif\n",
            "common.read: drive/Shareddrives/Z_interpolation/EPFL_1/images-interpolations/cubic/step=16_031.tif\n",
            "common.write: drive/Shareddrives/Z_interpolation/EPFL_1/images-SSIM/cubic/step=16_031.tif\n",
            "31 SSIM=0.528\n",
            "common.read: drive/Shareddrives/Z_interpolation/EPFL_1/images/033.tif\n",
            "common.read: drive/Shareddrives/Z_interpolation/EPFL_1/images-interpolations/cubic/step=16_033.tif\n",
            "common.write: drive/Shareddrives/Z_interpolation/EPFL_1/images-SSIM/cubic/step=16_033.tif\n",
            "33 SSIM=0.521\n",
            "common.read: drive/Shareddrives/Z_interpolation/EPFL_1/images/034.tif\n",
            "common.read: drive/Shareddrives/Z_interpolation/EPFL_1/images-interpolations/cubic/step=16_034.tif\n",
            "common.write: drive/Shareddrives/Z_interpolation/EPFL_1/images-SSIM/cubic/step=16_034.tif\n",
            "34 SSIM=0.459\n",
            "common.read: drive/Shareddrives/Z_interpolation/EPFL_1/images/035.tif\n",
            "common.read: drive/Shareddrives/Z_interpolation/EPFL_1/images-interpolations/cubic/step=16_035.tif\n",
            "common.write: drive/Shareddrives/Z_interpolation/EPFL_1/images-SSIM/cubic/step=16_035.tif\n",
            "35 SSIM=0.385\n",
            "common.read: drive/Shareddrives/Z_interpolation/EPFL_1/images/036.tif\n",
            "common.read: drive/Shareddrives/Z_interpolation/EPFL_1/images-interpolations/cubic/step=16_036.tif\n",
            "common.write: drive/Shareddrives/Z_interpolation/EPFL_1/images-SSIM/cubic/step=16_036.tif\n",
            "36 SSIM=0.314\n",
            "common.read: drive/Shareddrives/Z_interpolation/EPFL_1/images/037.tif\n",
            "common.read: drive/Shareddrives/Z_interpolation/EPFL_1/images-interpolations/cubic/step=16_037.tif\n",
            "common.write: drive/Shareddrives/Z_interpolation/EPFL_1/images-SSIM/cubic/step=16_037.tif\n",
            "37 SSIM=0.254\n",
            "common.read: drive/Shareddrives/Z_interpolation/EPFL_1/images/038.tif\n",
            "common.read: drive/Shareddrives/Z_interpolation/EPFL_1/images-interpolations/cubic/step=16_038.tif\n",
            "common.write: drive/Shareddrives/Z_interpolation/EPFL_1/images-SSIM/cubic/step=16_038.tif\n",
            "38 SSIM=0.199\n",
            "common.read: drive/Shareddrives/Z_interpolation/EPFL_1/images/039.tif\n",
            "common.read: drive/Shareddrives/Z_interpolation/EPFL_1/images-interpolations/cubic/step=16_039.tif\n",
            "common.write: drive/Shareddrives/Z_interpolation/EPFL_1/images-SSIM/cubic/step=16_039.tif\n",
            "39 SSIM=0.189\n",
            "common.read: drive/Shareddrives/Z_interpolation/EPFL_1/images/040.tif\n",
            "common.read: drive/Shareddrives/Z_interpolation/EPFL_1/images-interpolations/cubic/step=16_040.tif\n",
            "common.write: drive/Shareddrives/Z_interpolation/EPFL_1/images-SSIM/cubic/step=16_040.tif\n",
            "40 SSIM=0.186\n",
            "common.read: drive/Shareddrives/Z_interpolation/EPFL_1/images/041.tif\n",
            "common.read: drive/Shareddrives/Z_interpolation/EPFL_1/images-interpolations/cubic/step=16_041.tif\n",
            "common.write: drive/Shareddrives/Z_interpolation/EPFL_1/images-SSIM/cubic/step=16_041.tif\n",
            "41 SSIM=0.195\n",
            "common.read: drive/Shareddrives/Z_interpolation/EPFL_1/images/042.tif\n",
            "common.read: drive/Shareddrives/Z_interpolation/EPFL_1/images-interpolations/cubic/step=16_042.tif\n",
            "common.write: drive/Shareddrives/Z_interpolation/EPFL_1/images-SSIM/cubic/step=16_042.tif\n",
            "42 SSIM=0.224\n",
            "common.read: drive/Shareddrives/Z_interpolation/EPFL_1/images/043.tif\n",
            "common.read: drive/Shareddrives/Z_interpolation/EPFL_1/images-interpolations/cubic/step=16_043.tif\n",
            "common.write: drive/Shareddrives/Z_interpolation/EPFL_1/images-SSIM/cubic/step=16_043.tif\n",
            "43 SSIM=0.267\n",
            "common.read: drive/Shareddrives/Z_interpolation/EPFL_1/images/044.tif\n",
            "common.read: drive/Shareddrives/Z_interpolation/EPFL_1/images-interpolations/cubic/step=16_044.tif\n",
            "common.write: drive/Shareddrives/Z_interpolation/EPFL_1/images-SSIM/cubic/step=16_044.tif\n",
            "44 SSIM=0.323\n",
            "common.read: drive/Shareddrives/Z_interpolation/EPFL_1/images/045.tif\n",
            "common.read: drive/Shareddrives/Z_interpolation/EPFL_1/images-interpolations/cubic/step=16_045.tif\n",
            "common.write: drive/Shareddrives/Z_interpolation/EPFL_1/images-SSIM/cubic/step=16_045.tif\n",
            "45 SSIM=0.392\n",
            "common.read: drive/Shareddrives/Z_interpolation/EPFL_1/images/046.tif\n",
            "common.read: drive/Shareddrives/Z_interpolation/EPFL_1/images-interpolations/cubic/step=16_046.tif\n",
            "common.write: drive/Shareddrives/Z_interpolation/EPFL_1/images-SSIM/cubic/step=16_046.tif\n",
            "46 SSIM=0.459\n",
            "common.read: drive/Shareddrives/Z_interpolation/EPFL_1/images/047.tif\n",
            "common.read: drive/Shareddrives/Z_interpolation/EPFL_1/images-interpolations/cubic/step=16_047.tif\n",
            "common.write: drive/Shareddrives/Z_interpolation/EPFL_1/images-SSIM/cubic/step=16_047.tif\n",
            "47 SSIM=0.514\n",
            "common.read: drive/Shareddrives/Z_interpolation/EPFL_1/images/049.tif\n",
            "common.read: drive/Shareddrives/Z_interpolation/EPFL_1/images-interpolations/cubic/step=16_049.tif\n",
            "common.write: drive/Shareddrives/Z_interpolation/EPFL_1/images-SSIM/cubic/step=16_049.tif\n",
            "49 SSIM=0.521\n",
            "common.read: drive/Shareddrives/Z_interpolation/EPFL_1/images/050.tif\n",
            "common.read: drive/Shareddrives/Z_interpolation/EPFL_1/images-interpolations/cubic/step=16_050.tif\n",
            "common.write: drive/Shareddrives/Z_interpolation/EPFL_1/images-SSIM/cubic/step=16_050.tif\n",
            "50 SSIM=0.468\n",
            "common.read: drive/Shareddrives/Z_interpolation/EPFL_1/images/051.tif\n",
            "common.read: drive/Shareddrives/Z_interpolation/EPFL_1/images-interpolations/cubic/step=16_051.tif\n",
            "common.write: drive/Shareddrives/Z_interpolation/EPFL_1/images-SSIM/cubic/step=16_051.tif\n",
            "51 SSIM=0.402\n",
            "common.read: drive/Shareddrives/Z_interpolation/EPFL_1/images/052.tif\n",
            "common.read: drive/Shareddrives/Z_interpolation/EPFL_1/images-interpolations/cubic/step=16_052.tif\n",
            "common.write: drive/Shareddrives/Z_interpolation/EPFL_1/images-SSIM/cubic/step=16_052.tif\n",
            "52 SSIM=0.343\n",
            "common.read: drive/Shareddrives/Z_interpolation/EPFL_1/images/053.tif\n",
            "common.read: drive/Shareddrives/Z_interpolation/EPFL_1/images-interpolations/cubic/step=16_053.tif\n",
            "common.write: drive/Shareddrives/Z_interpolation/EPFL_1/images-SSIM/cubic/step=16_053.tif\n",
            "53 SSIM=0.280\n",
            "common.read: drive/Shareddrives/Z_interpolation/EPFL_1/images/054.tif\n",
            "common.read: drive/Shareddrives/Z_interpolation/EPFL_1/images-interpolations/cubic/step=16_054.tif\n",
            "common.write: drive/Shareddrives/Z_interpolation/EPFL_1/images-SSIM/cubic/step=16_054.tif\n",
            "54 SSIM=0.231\n",
            "common.read: drive/Shareddrives/Z_interpolation/EPFL_1/images/055.tif\n",
            "common.read: drive/Shareddrives/Z_interpolation/EPFL_1/images-interpolations/cubic/step=16_055.tif\n",
            "common.write: drive/Shareddrives/Z_interpolation/EPFL_1/images-SSIM/cubic/step=16_055.tif\n",
            "55 SSIM=0.205\n",
            "common.read: drive/Shareddrives/Z_interpolation/EPFL_1/images/056.tif\n",
            "common.read: drive/Shareddrives/Z_interpolation/EPFL_1/images-interpolations/cubic/step=16_056.tif\n",
            "common.write: drive/Shareddrives/Z_interpolation/EPFL_1/images-SSIM/cubic/step=16_056.tif\n",
            "56 SSIM=0.195\n",
            "common.read: drive/Shareddrives/Z_interpolation/EPFL_1/images/057.tif\n",
            "common.read: drive/Shareddrives/Z_interpolation/EPFL_1/images-interpolations/cubic/step=16_057.tif\n",
            "common.write: drive/Shareddrives/Z_interpolation/EPFL_1/images-SSIM/cubic/step=16_057.tif\n",
            "57 SSIM=0.196\n",
            "common.read: drive/Shareddrives/Z_interpolation/EPFL_1/images/058.tif\n",
            "common.read: drive/Shareddrives/Z_interpolation/EPFL_1/images-interpolations/cubic/step=16_058.tif\n",
            "common.write: drive/Shareddrives/Z_interpolation/EPFL_1/images-SSIM/cubic/step=16_058.tif\n",
            "58 SSIM=0.221\n",
            "common.read: drive/Shareddrives/Z_interpolation/EPFL_1/images/059.tif\n",
            "common.read: drive/Shareddrives/Z_interpolation/EPFL_1/images-interpolations/cubic/step=16_059.tif\n",
            "common.write: drive/Shareddrives/Z_interpolation/EPFL_1/images-SSIM/cubic/step=16_059.tif\n",
            "59 SSIM=0.256\n",
            "common.read: drive/Shareddrives/Z_interpolation/EPFL_1/images/060.tif\n",
            "common.read: drive/Shareddrives/Z_interpolation/EPFL_1/images-interpolations/cubic/step=16_060.tif\n",
            "common.write: drive/Shareddrives/Z_interpolation/EPFL_1/images-SSIM/cubic/step=16_060.tif\n",
            "60 SSIM=0.318\n",
            "common.read: drive/Shareddrives/Z_interpolation/EPFL_1/images/061.tif\n",
            "common.read: drive/Shareddrives/Z_interpolation/EPFL_1/images-interpolations/cubic/step=16_061.tif\n",
            "common.write: drive/Shareddrives/Z_interpolation/EPFL_1/images-SSIM/cubic/step=16_061.tif\n",
            "61 SSIM=0.382\n",
            "common.read: drive/Shareddrives/Z_interpolation/EPFL_1/images/062.tif\n",
            "common.read: drive/Shareddrives/Z_interpolation/EPFL_1/images-interpolations/cubic/step=16_062.tif\n",
            "common.write: drive/Shareddrives/Z_interpolation/EPFL_1/images-SSIM/cubic/step=16_062.tif\n",
            "62 SSIM=0.453\n",
            "common.read: drive/Shareddrives/Z_interpolation/EPFL_1/images/063.tif\n",
            "common.read: drive/Shareddrives/Z_interpolation/EPFL_1/images-interpolations/cubic/step=16_063.tif\n",
            "common.write: drive/Shareddrives/Z_interpolation/EPFL_1/images-SSIM/cubic/step=16_063.tif\n",
            "63 SSIM=0.508\n",
            "common.read: drive/Shareddrives/Z_interpolation/EPFL_1/images/065.tif\n",
            "common.read: drive/Shareddrives/Z_interpolation/EPFL_1/images-interpolations/cubic/step=16_065.tif\n",
            "common.write: drive/Shareddrives/Z_interpolation/EPFL_1/images-SSIM/cubic/step=16_065.tif\n",
            "65 SSIM=0.507\n",
            "common.read: drive/Shareddrives/Z_interpolation/EPFL_1/images/066.tif\n",
            "common.read: drive/Shareddrives/Z_interpolation/EPFL_1/images-interpolations/cubic/step=16_066.tif\n",
            "common.write: drive/Shareddrives/Z_interpolation/EPFL_1/images-SSIM/cubic/step=16_066.tif\n",
            "66 SSIM=0.435\n",
            "common.read: drive/Shareddrives/Z_interpolation/EPFL_1/images/067.tif\n",
            "common.read: drive/Shareddrives/Z_interpolation/EPFL_1/images-interpolations/cubic/step=16_067.tif\n",
            "common.write: drive/Shareddrives/Z_interpolation/EPFL_1/images-SSIM/cubic/step=16_067.tif\n",
            "67 SSIM=0.360\n",
            "common.read: drive/Shareddrives/Z_interpolation/EPFL_1/images/068.tif\n",
            "common.read: drive/Shareddrives/Z_interpolation/EPFL_1/images-interpolations/cubic/step=16_068.tif\n",
            "common.write: drive/Shareddrives/Z_interpolation/EPFL_1/images-SSIM/cubic/step=16_068.tif\n",
            "68 SSIM=0.296\n",
            "common.read: drive/Shareddrives/Z_interpolation/EPFL_1/images/069.tif\n",
            "common.read: drive/Shareddrives/Z_interpolation/EPFL_1/images-interpolations/cubic/step=16_069.tif\n",
            "common.write: drive/Shareddrives/Z_interpolation/EPFL_1/images-SSIM/cubic/step=16_069.tif\n",
            "69 SSIM=0.234\n",
            "common.read: drive/Shareddrives/Z_interpolation/EPFL_1/images/070.tif\n",
            "common.read: drive/Shareddrives/Z_interpolation/EPFL_1/images-interpolations/cubic/step=16_070.tif\n",
            "common.write: drive/Shareddrives/Z_interpolation/EPFL_1/images-SSIM/cubic/step=16_070.tif\n",
            "70 SSIM=0.194\n",
            "common.read: drive/Shareddrives/Z_interpolation/EPFL_1/images/071.tif\n",
            "common.read: drive/Shareddrives/Z_interpolation/EPFL_1/images-interpolations/cubic/step=16_071.tif\n",
            "common.write: drive/Shareddrives/Z_interpolation/EPFL_1/images-SSIM/cubic/step=16_071.tif\n",
            "71 SSIM=0.182\n",
            "common.read: drive/Shareddrives/Z_interpolation/EPFL_1/images/072.tif\n",
            "common.read: drive/Shareddrives/Z_interpolation/EPFL_1/images-interpolations/cubic/step=16_072.tif\n",
            "common.write: drive/Shareddrives/Z_interpolation/EPFL_1/images-SSIM/cubic/step=16_072.tif\n",
            "72 SSIM=0.181\n",
            "common.read: drive/Shareddrives/Z_interpolation/EPFL_1/images/073.tif\n",
            "common.read: drive/Shareddrives/Z_interpolation/EPFL_1/images-interpolations/cubic/step=16_073.tif\n",
            "common.write: drive/Shareddrives/Z_interpolation/EPFL_1/images-SSIM/cubic/step=16_073.tif\n",
            "73 SSIM=0.196\n",
            "common.read: drive/Shareddrives/Z_interpolation/EPFL_1/images/074.tif\n",
            "common.read: drive/Shareddrives/Z_interpolation/EPFL_1/images-interpolations/cubic/step=16_074.tif\n",
            "common.write: drive/Shareddrives/Z_interpolation/EPFL_1/images-SSIM/cubic/step=16_074.tif\n",
            "74 SSIM=0.229\n",
            "common.read: drive/Shareddrives/Z_interpolation/EPFL_1/images/075.tif\n",
            "common.read: drive/Shareddrives/Z_interpolation/EPFL_1/images-interpolations/cubic/step=16_075.tif\n",
            "common.write: drive/Shareddrives/Z_interpolation/EPFL_1/images-SSIM/cubic/step=16_075.tif\n",
            "75 SSIM=0.272\n",
            "common.read: drive/Shareddrives/Z_interpolation/EPFL_1/images/076.tif\n",
            "common.read: drive/Shareddrives/Z_interpolation/EPFL_1/images-interpolations/cubic/step=16_076.tif\n",
            "common.write: drive/Shareddrives/Z_interpolation/EPFL_1/images-SSIM/cubic/step=16_076.tif\n",
            "76 SSIM=0.341\n",
            "common.read: drive/Shareddrives/Z_interpolation/EPFL_1/images/077.tif\n",
            "common.read: drive/Shareddrives/Z_interpolation/EPFL_1/images-interpolations/cubic/step=16_077.tif\n",
            "common.write: drive/Shareddrives/Z_interpolation/EPFL_1/images-SSIM/cubic/step=16_077.tif\n",
            "77 SSIM=0.408\n",
            "common.read: drive/Shareddrives/Z_interpolation/EPFL_1/images/078.tif\n",
            "common.read: drive/Shareddrives/Z_interpolation/EPFL_1/images-interpolations/cubic/step=16_078.tif\n",
            "common.write: drive/Shareddrives/Z_interpolation/EPFL_1/images-SSIM/cubic/step=16_078.tif\n",
            "78 SSIM=0.475\n",
            "common.read: drive/Shareddrives/Z_interpolation/EPFL_1/images/079.tif\n",
            "common.read: drive/Shareddrives/Z_interpolation/EPFL_1/images-interpolations/cubic/step=16_079.tif\n",
            "common.write: drive/Shareddrives/Z_interpolation/EPFL_1/images-SSIM/cubic/step=16_079.tif\n",
            "79 SSIM=0.526\n",
            "common.read: drive/Shareddrives/Z_interpolation/EPFL_1/images/081.tif\n",
            "common.read: drive/Shareddrives/Z_interpolation/EPFL_1/images-interpolations/cubic/step=16_081.tif\n",
            "common.write: drive/Shareddrives/Z_interpolation/EPFL_1/images-SSIM/cubic/step=16_081.tif\n",
            "81 SSIM=0.525\n",
            "common.read: drive/Shareddrives/Z_interpolation/EPFL_1/images/082.tif\n",
            "common.read: drive/Shareddrives/Z_interpolation/EPFL_1/images-interpolations/cubic/step=16_082.tif\n",
            "common.write: drive/Shareddrives/Z_interpolation/EPFL_1/images-SSIM/cubic/step=16_082.tif\n",
            "82 SSIM=0.460\n",
            "common.read: drive/Shareddrives/Z_interpolation/EPFL_1/images/083.tif\n",
            "common.read: drive/Shareddrives/Z_interpolation/EPFL_1/images-interpolations/cubic/step=16_083.tif\n",
            "common.write: drive/Shareddrives/Z_interpolation/EPFL_1/images-SSIM/cubic/step=16_083.tif\n",
            "83 SSIM=0.395\n",
            "common.read: drive/Shareddrives/Z_interpolation/EPFL_1/images/084.tif\n",
            "common.read: drive/Shareddrives/Z_interpolation/EPFL_1/images-interpolations/cubic/step=16_084.tif\n",
            "common.write: drive/Shareddrives/Z_interpolation/EPFL_1/images-SSIM/cubic/step=16_084.tif\n",
            "84 SSIM=0.323\n",
            "common.read: drive/Shareddrives/Z_interpolation/EPFL_1/images/085.tif\n",
            "common.read: drive/Shareddrives/Z_interpolation/EPFL_1/images-interpolations/cubic/step=16_085.tif\n",
            "common.write: drive/Shareddrives/Z_interpolation/EPFL_1/images-SSIM/cubic/step=16_085.tif\n",
            "85 SSIM=0.265\n",
            "common.read: drive/Shareddrives/Z_interpolation/EPFL_1/images/086.tif\n",
            "common.read: drive/Shareddrives/Z_interpolation/EPFL_1/images-interpolations/cubic/step=16_086.tif\n",
            "common.write: drive/Shareddrives/Z_interpolation/EPFL_1/images-SSIM/cubic/step=16_086.tif\n",
            "86 SSIM=0.233\n",
            "common.read: drive/Shareddrives/Z_interpolation/EPFL_1/images/087.tif\n",
            "common.read: drive/Shareddrives/Z_interpolation/EPFL_1/images-interpolations/cubic/step=16_087.tif\n",
            "common.write: drive/Shareddrives/Z_interpolation/EPFL_1/images-SSIM/cubic/step=16_087.tif\n",
            "87 SSIM=0.206\n",
            "common.read: drive/Shareddrives/Z_interpolation/EPFL_1/images/088.tif\n",
            "common.read: drive/Shareddrives/Z_interpolation/EPFL_1/images-interpolations/cubic/step=16_088.tif\n",
            "common.write: drive/Shareddrives/Z_interpolation/EPFL_1/images-SSIM/cubic/step=16_088.tif\n",
            "88 SSIM=0.204\n",
            "common.read: drive/Shareddrives/Z_interpolation/EPFL_1/images/089.tif\n",
            "common.read: drive/Shareddrives/Z_interpolation/EPFL_1/images-interpolations/cubic/step=16_089.tif\n",
            "common.write: drive/Shareddrives/Z_interpolation/EPFL_1/images-SSIM/cubic/step=16_089.tif\n",
            "89 SSIM=0.212\n",
            "common.read: drive/Shareddrives/Z_interpolation/EPFL_1/images/090.tif\n",
            "common.read: drive/Shareddrives/Z_interpolation/EPFL_1/images-interpolations/cubic/step=16_090.tif\n",
            "common.write: drive/Shareddrives/Z_interpolation/EPFL_1/images-SSIM/cubic/step=16_090.tif\n",
            "90 SSIM=0.242\n",
            "common.read: drive/Shareddrives/Z_interpolation/EPFL_1/images/091.tif\n",
            "common.read: drive/Shareddrives/Z_interpolation/EPFL_1/images-interpolations/cubic/step=16_091.tif\n",
            "common.write: drive/Shareddrives/Z_interpolation/EPFL_1/images-SSIM/cubic/step=16_091.tif\n",
            "91 SSIM=0.289\n",
            "common.read: drive/Shareddrives/Z_interpolation/EPFL_1/images/092.tif\n",
            "common.read: drive/Shareddrives/Z_interpolation/EPFL_1/images-interpolations/cubic/step=16_092.tif\n",
            "common.write: drive/Shareddrives/Z_interpolation/EPFL_1/images-SSIM/cubic/step=16_092.tif\n",
            "92 SSIM=0.342\n",
            "common.read: drive/Shareddrives/Z_interpolation/EPFL_1/images/093.tif\n",
            "common.read: drive/Shareddrives/Z_interpolation/EPFL_1/images-interpolations/cubic/step=16_093.tif\n",
            "common.write: drive/Shareddrives/Z_interpolation/EPFL_1/images-SSIM/cubic/step=16_093.tif\n",
            "93 SSIM=0.398\n",
            "common.read: drive/Shareddrives/Z_interpolation/EPFL_1/images/094.tif\n",
            "common.read: drive/Shareddrives/Z_interpolation/EPFL_1/images-interpolations/cubic/step=16_094.tif\n",
            "common.write: drive/Shareddrives/Z_interpolation/EPFL_1/images-SSIM/cubic/step=16_094.tif\n",
            "94 SSIM=0.468\n",
            "common.read: drive/Shareddrives/Z_interpolation/EPFL_1/images/095.tif\n",
            "common.read: drive/Shareddrives/Z_interpolation/EPFL_1/images-interpolations/cubic/step=16_095.tif\n",
            "common.write: drive/Shareddrives/Z_interpolation/EPFL_1/images-SSIM/cubic/step=16_095.tif\n",
            "95 SSIM=0.528\n",
            "common.read: drive/Shareddrives/Z_interpolation/EPFL_1/images/097.tif\n",
            "common.read: drive/Shareddrives/Z_interpolation/EPFL_1/images-interpolations/cubic/step=16_097.tif\n",
            "common.write: drive/Shareddrives/Z_interpolation/EPFL_1/images-SSIM/cubic/step=16_097.tif\n",
            "97 SSIM=0.526\n",
            "common.read: drive/Shareddrives/Z_interpolation/EPFL_1/images/098.tif\n",
            "common.read: drive/Shareddrives/Z_interpolation/EPFL_1/images-interpolations/cubic/step=16_098.tif\n",
            "common.write: drive/Shareddrives/Z_interpolation/EPFL_1/images-SSIM/cubic/step=16_098.tif\n",
            "98 SSIM=0.461\n",
            "common.read: drive/Shareddrives/Z_interpolation/EPFL_1/images/099.tif\n",
            "common.read: drive/Shareddrives/Z_interpolation/EPFL_1/images-interpolations/cubic/step=16_099.tif\n",
            "common.write: drive/Shareddrives/Z_interpolation/EPFL_1/images-SSIM/cubic/step=16_099.tif\n",
            "99 SSIM=0.389\n",
            "common.read: drive/Shareddrives/Z_interpolation/EPFL_1/images/100.tif\n",
            "common.read: drive/Shareddrives/Z_interpolation/EPFL_1/images-interpolations/cubic/step=16_100.tif\n",
            "common.write: drive/Shareddrives/Z_interpolation/EPFL_1/images-SSIM/cubic/step=16_100.tif\n",
            "100 SSIM=0.333\n",
            "common.read: drive/Shareddrives/Z_interpolation/EPFL_1/images/101.tif\n",
            "common.read: drive/Shareddrives/Z_interpolation/EPFL_1/images-interpolations/cubic/step=16_101.tif\n",
            "common.write: drive/Shareddrives/Z_interpolation/EPFL_1/images-SSIM/cubic/step=16_101.tif\n",
            "101 SSIM=0.263\n",
            "common.read: drive/Shareddrives/Z_interpolation/EPFL_1/images/102.tif\n",
            "common.read: drive/Shareddrives/Z_interpolation/EPFL_1/images-interpolations/cubic/step=16_102.tif\n",
            "common.write: drive/Shareddrives/Z_interpolation/EPFL_1/images-SSIM/cubic/step=16_102.tif\n",
            "102 SSIM=0.226\n",
            "common.read: drive/Shareddrives/Z_interpolation/EPFL_1/images/103.tif\n",
            "common.read: drive/Shareddrives/Z_interpolation/EPFL_1/images-interpolations/cubic/step=16_103.tif\n",
            "common.write: drive/Shareddrives/Z_interpolation/EPFL_1/images-SSIM/cubic/step=16_103.tif\n",
            "103 SSIM=0.204\n",
            "common.read: drive/Shareddrives/Z_interpolation/EPFL_1/images/104.tif\n",
            "common.read: drive/Shareddrives/Z_interpolation/EPFL_1/images-interpolations/cubic/step=16_104.tif\n",
            "common.write: drive/Shareddrives/Z_interpolation/EPFL_1/images-SSIM/cubic/step=16_104.tif\n",
            "104 SSIM=0.191\n",
            "common.read: drive/Shareddrives/Z_interpolation/EPFL_1/images/105.tif\n",
            "common.read: drive/Shareddrives/Z_interpolation/EPFL_1/images-interpolations/cubic/step=16_105.tif\n",
            "common.write: drive/Shareddrives/Z_interpolation/EPFL_1/images-SSIM/cubic/step=16_105.tif\n",
            "105 SSIM=0.199\n",
            "common.read: drive/Shareddrives/Z_interpolation/EPFL_1/images/106.tif\n",
            "common.read: drive/Shareddrives/Z_interpolation/EPFL_1/images-interpolations/cubic/step=16_106.tif\n",
            "common.write: drive/Shareddrives/Z_interpolation/EPFL_1/images-SSIM/cubic/step=16_106.tif\n",
            "106 SSIM=0.224\n",
            "common.read: drive/Shareddrives/Z_interpolation/EPFL_1/images/107.tif\n",
            "common.read: drive/Shareddrives/Z_interpolation/EPFL_1/images-interpolations/cubic/step=16_107.tif\n",
            "common.write: drive/Shareddrives/Z_interpolation/EPFL_1/images-SSIM/cubic/step=16_107.tif\n",
            "107 SSIM=0.263\n",
            "common.read: drive/Shareddrives/Z_interpolation/EPFL_1/images/108.tif\n",
            "common.read: drive/Shareddrives/Z_interpolation/EPFL_1/images-interpolations/cubic/step=16_108.tif\n",
            "common.write: drive/Shareddrives/Z_interpolation/EPFL_1/images-SSIM/cubic/step=16_108.tif\n",
            "108 SSIM=0.328\n",
            "common.read: drive/Shareddrives/Z_interpolation/EPFL_1/images/109.tif\n",
            "common.read: drive/Shareddrives/Z_interpolation/EPFL_1/images-interpolations/cubic/step=16_109.tif\n",
            "common.write: drive/Shareddrives/Z_interpolation/EPFL_1/images-SSIM/cubic/step=16_109.tif\n",
            "109 SSIM=0.393\n",
            "common.read: drive/Shareddrives/Z_interpolation/EPFL_1/images/110.tif\n",
            "common.read: drive/Shareddrives/Z_interpolation/EPFL_1/images-interpolations/cubic/step=16_110.tif\n",
            "common.write: drive/Shareddrives/Z_interpolation/EPFL_1/images-SSIM/cubic/step=16_110.tif\n",
            "110 SSIM=0.465\n",
            "common.read: drive/Shareddrives/Z_interpolation/EPFL_1/images/111.tif\n",
            "common.read: drive/Shareddrives/Z_interpolation/EPFL_1/images-interpolations/cubic/step=16_111.tif\n",
            "common.write: drive/Shareddrives/Z_interpolation/EPFL_1/images-SSIM/cubic/step=16_111.tif\n",
            "111 SSIM=0.528\n",
            "common.read: drive/Shareddrives/Z_interpolation/EPFL_1/images/113.tif\n",
            "common.read: drive/Shareddrives/Z_interpolation/EPFL_1/images-interpolations/cubic/step=16_113.tif\n",
            "common.write: drive/Shareddrives/Z_interpolation/EPFL_1/images-SSIM/cubic/step=16_113.tif\n",
            "113 SSIM=0.517\n",
            "common.read: drive/Shareddrives/Z_interpolation/EPFL_1/images/114.tif\n",
            "common.read: drive/Shareddrives/Z_interpolation/EPFL_1/images-interpolations/cubic/step=16_114.tif\n",
            "common.write: drive/Shareddrives/Z_interpolation/EPFL_1/images-SSIM/cubic/step=16_114.tif\n",
            "114 SSIM=0.456\n",
            "common.read: drive/Shareddrives/Z_interpolation/EPFL_1/images/115.tif\n",
            "common.read: drive/Shareddrives/Z_interpolation/EPFL_1/images-interpolations/cubic/step=16_115.tif\n",
            "common.write: drive/Shareddrives/Z_interpolation/EPFL_1/images-SSIM/cubic/step=16_115.tif\n",
            "115 SSIM=0.391\n",
            "common.read: drive/Shareddrives/Z_interpolation/EPFL_1/images/116.tif\n",
            "common.read: drive/Shareddrives/Z_interpolation/EPFL_1/images-interpolations/cubic/step=16_116.tif\n",
            "common.write: drive/Shareddrives/Z_interpolation/EPFL_1/images-SSIM/cubic/step=16_116.tif\n",
            "116 SSIM=0.331\n",
            "common.read: drive/Shareddrives/Z_interpolation/EPFL_1/images/117.tif\n",
            "common.read: drive/Shareddrives/Z_interpolation/EPFL_1/images-interpolations/cubic/step=16_117.tif\n",
            "common.write: drive/Shareddrives/Z_interpolation/EPFL_1/images-SSIM/cubic/step=16_117.tif\n",
            "117 SSIM=0.277\n",
            "common.read: drive/Shareddrives/Z_interpolation/EPFL_1/images/118.tif\n",
            "common.read: drive/Shareddrives/Z_interpolation/EPFL_1/images-interpolations/cubic/step=16_118.tif\n",
            "common.write: drive/Shareddrives/Z_interpolation/EPFL_1/images-SSIM/cubic/step=16_118.tif\n",
            "118 SSIM=0.232\n",
            "common.read: drive/Shareddrives/Z_interpolation/EPFL_1/images/119.tif\n",
            "common.read: drive/Shareddrives/Z_interpolation/EPFL_1/images-interpolations/cubic/step=16_119.tif\n",
            "common.write: drive/Shareddrives/Z_interpolation/EPFL_1/images-SSIM/cubic/step=16_119.tif\n",
            "119 SSIM=0.206\n",
            "common.read: drive/Shareddrives/Z_interpolation/EPFL_1/images/120.tif\n",
            "common.read: drive/Shareddrives/Z_interpolation/EPFL_1/images-interpolations/cubic/step=16_120.tif\n",
            "common.write: drive/Shareddrives/Z_interpolation/EPFL_1/images-SSIM/cubic/step=16_120.tif\n",
            "120 SSIM=0.199\n",
            "common.read: drive/Shareddrives/Z_interpolation/EPFL_1/images/121.tif\n",
            "common.read: drive/Shareddrives/Z_interpolation/EPFL_1/images-interpolations/cubic/step=16_121.tif\n",
            "common.write: drive/Shareddrives/Z_interpolation/EPFL_1/images-SSIM/cubic/step=16_121.tif\n",
            "121 SSIM=0.209\n",
            "common.read: drive/Shareddrives/Z_interpolation/EPFL_1/images/122.tif\n",
            "common.read: drive/Shareddrives/Z_interpolation/EPFL_1/images-interpolations/cubic/step=16_122.tif\n",
            "common.write: drive/Shareddrives/Z_interpolation/EPFL_1/images-SSIM/cubic/step=16_122.tif\n",
            "122 SSIM=0.231\n",
            "common.read: drive/Shareddrives/Z_interpolation/EPFL_1/images/123.tif\n",
            "common.read: drive/Shareddrives/Z_interpolation/EPFL_1/images-interpolations/cubic/step=16_123.tif\n",
            "common.write: drive/Shareddrives/Z_interpolation/EPFL_1/images-SSIM/cubic/step=16_123.tif\n",
            "123 SSIM=0.269\n",
            "common.read: drive/Shareddrives/Z_interpolation/EPFL_1/images/124.tif\n",
            "common.read: drive/Shareddrives/Z_interpolation/EPFL_1/images-interpolations/cubic/step=16_124.tif\n",
            "common.write: drive/Shareddrives/Z_interpolation/EPFL_1/images-SSIM/cubic/step=16_124.tif\n",
            "124 SSIM=0.321\n",
            "common.read: drive/Shareddrives/Z_interpolation/EPFL_1/images/125.tif\n",
            "common.read: drive/Shareddrives/Z_interpolation/EPFL_1/images-interpolations/cubic/step=16_125.tif\n",
            "common.write: drive/Shareddrives/Z_interpolation/EPFL_1/images-SSIM/cubic/step=16_125.tif\n",
            "125 SSIM=0.395\n",
            "common.read: drive/Shareddrives/Z_interpolation/EPFL_1/images/126.tif\n",
            "common.read: drive/Shareddrives/Z_interpolation/EPFL_1/images-interpolations/cubic/step=16_126.tif\n",
            "common.write: drive/Shareddrives/Z_interpolation/EPFL_1/images-SSIM/cubic/step=16_126.tif\n",
            "126 SSIM=0.469\n",
            "common.read: drive/Shareddrives/Z_interpolation/EPFL_1/images/127.tif\n",
            "common.read: drive/Shareddrives/Z_interpolation/EPFL_1/images-interpolations/cubic/step=16_127.tif\n",
            "common.write: drive/Shareddrives/Z_interpolation/EPFL_1/images-SSIM/cubic/step=16_127.tif\n",
            "127 SSIM=0.522\n"
          ],
          "name": "stdout"
        }
      ]
    },
    {
      "cell_type": "code",
      "metadata": {
        "id": "N--V2a-ET60p"
      },
      "source": [
        ""
      ],
      "execution_count": null,
      "outputs": []
    }
  ]
}