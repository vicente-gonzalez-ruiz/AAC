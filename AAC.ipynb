{
 "cells": [
  {
   "cell_type": "markdown",
   "metadata": {},
   "source": [
    "# Advanced Audio Coding (AAC)~\\cite{Bosi}"
   ]
  },
  {
   "cell_type": "markdown",
   "metadata": {},
   "source": [
    "\\begin{itemize}\n",
    "\\item Standardized by ISO and IEC, as part of the MPEG-2 and MPEG-4\n",
    "  specifications.\n",
    "\\item 48 full-bandwidth (up to 96 kHz) audio channels in one stream\n",
    "  plus 16 low frequency effects (LFE, limited to 120 Hz) channels, up\n",
    "  to 16 ``coupling'' or dialog channels, and up to 16 data streams.\n",
    "\\item Coding algorithm:\n",
    "  \\begin{enumerate}\n",
    "  \\item Transform the audio from the time domain to the frequency domain.\n",
    "  \\item Quantization of the frequencies using a psycho-acoustic model.\n",
    "  \\item (Lossless) Huffman coding of the remaining data.\n",
    "\\end{enumerate}\n",
    "\\end{itemize}"
   ]
  }
 ],
 "metadata": {
  "kernelspec": {
   "display_name": "Python 3",
   "language": "python",
   "name": "python3"
  },
  "language_info": {
   "codemirror_mode": {
    "name": "ipython",
    "version": 3
   },
   "file_extension": ".py",
   "mimetype": "text/x-python",
   "name": "python",
   "nbconvert_exporter": "python",
   "pygments_lexer": "ipython3",
   "version": "3.6.3"
  }
 },
 "nbformat": 4,
 "nbformat_minor": 2
}
